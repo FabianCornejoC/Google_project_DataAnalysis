{
 "cells": [
  {
   "cell_type": "code",
   "execution_count": 2,
   "id": "dea2d4cd",
   "metadata": {
    "scrolled": true
   },
   "outputs": [],
   "source": [
    "from photutils.segmentation import (SourceCatalog, deblend_sources, detect_sources, detect_threshold)\n",
    "from astropy.io import fits\n",
    "from matplotlib import pyplot as plt\n",
    "from astropy.coordinates import SkyCoord\n",
    "from astropy import units as u\n",
    "from astropy.table import Column\n",
    "import numpy as np\n",
    "import pandas as pd\n",
    "from scipy.spatial import cKDTree\n",
    "from astropy.table import Table"
   ]
  },
  {
   "cell_type": "markdown",
   "id": "135f2e50",
   "metadata": {},
   "source": [
    "**ZERO POINT ESTRELLA B**"
   ]
  },
  {
   "cell_type": "code",
   "execution_count": 3,
   "id": "39326c7e",
   "metadata": {},
   "outputs": [],
   "source": [
    "HIP_B= fits.open(r'C:\\Yop\\imagenes_astro\\Estrellas\\HIP117445_B_reducida.fit')[0] # traemos los archivos a trabajar\n",
    "HIP_V = fits.open(r'C:\\Yop\\imagenes_astro\\Estrellas\\HIP117445_V_reducida.fit')[0]\n",
    "\n",
    "NGC2070_B = fits.open(r'C:\\Yop\\imagenes_astro\\raw\\NGC2070B.fit')[0]\n",
    "NGC2070_V = fits.open(r'C:\\Yop\\imagenes_astro\\raw\\NGC2070V.fit')[0]"
   ]
  },
  {
   "cell_type": "code",
   "execution_count": 4,
   "id": "434a23e5",
   "metadata": {},
   "outputs": [
    {
     "data": {
      "text/plain": [
       "SIMPLE  =                    T / conforms to FITS standard                      \n",
       "BITPIX  =                  -64 / array data type                                \n",
       "NAXIS   =                    2 / number of array dimensions                     \n",
       "NAXIS1  =                 4096                                                  \n",
       "NAXIS2  =                 4096                                                  \n",
       "COMMENT   FITS (Flexible Image Transport System) format is defined in 'Astronomy\n",
       "COMMENT   and Astrophysics', volume 376, page 359; bibcode: 2001A&A...376..359H \n",
       "OBSERVER= 'CAmus, Rodriguez, Morales, Guerrero' / SBIGFITSEXT The name of the ob\n",
       "ORIGIN  = 'MAS500  '           / Description of location                        \n",
       "TELESCOP= 'MAS500  '           / SBIGFITSEXT The model Telescope                \n",
       "FOCALLEN=                6500. / SBIGFITSEXT Telescope focal length in mm       \n",
       "APTDIA  =                 500. / SBIGFITSEXT Aperture diameter in mm            \n",
       "SBUUID  = '{90e0c4d9-2845-44a6-aab6-6a605e90bb48}' / Photo UUID                 \n",
       "EXPTIME =                   9. / SBIGFITSEXT Total exposure time in seconds     \n",
       "SWCREATE= 'TheSkyX Version 10.5.0 Build 12545' / SBIGFITSEXT Name & version of s\n",
       "COLORCCD=                    0 / Non zero if image is from a Bayer color ccd    \n",
       "DISPINCR=                    1 / Non zero to automatically display the image in \n",
       "PICTTYPE=                    1 / Image type as index 0= Unknown 1=Light, 2=Bias,\n",
       "IMAGETYP= 'Light Frame'        / SBIGFITSEXT Light, Dark, Bias or Flat          \n",
       "XORGSUBF=                    0 / SBIGFITSEXT Subframe x upper-left pixel in bin \n",
       "YORGSUBF=                    0 / SBIGFITSEXT Subframe y upper-left pixel in bin \n",
       "XBINNING=                    1 / SBIGFITSEXT Binning factor in width            \n",
       "YBINNING=                    1 / SBIGFITSEXT Binning factor in height           \n",
       "CCD-TEMP=                -24.8 / SBIGFITSEXT Temperature of the CCD             \n",
       "SET-TEMP=                 -25. / SBIGFITSEXT The cooler setpoint in degrees C   \n",
       "SITELAT = '-33 25 34.61'       / SBIGFITSEXT Latitude of the imaging location   \n",
       "SITELONG= '+70 33 59.62'       / SBIGFITSEXT Longitude of the imaging location  \n",
       "LST     = '+23 48 40.34'       / Local sidereal time                            \n",
       "OBSGEO-B=            -33.42628 / Latitude of the observation in degrees, North +\n",
       "OBSGEO-L=            -70.56656 / Longitude of the observation in degrees, East +\n",
       "OBSGEO-H=                1500. / Altitude of the observation in meters          \n",
       "BTP     =                    1 / Beyond the pole                                \n",
       "CENTAZ  =    0.774434295443939 / SBIGFITSEXT Azimuth of the center of the image \n",
       "CENTALT =     54.2446890815905 / SBIGFITSEXT Altitude of the center of the image\n",
       "AIRMASS =      1.2322507488657 / Airmass of the telescope                       \n",
       "TELEHA  = '-00 01 48.69'       / Telescope hour angle                           \n",
       "MOUNT   = 'ASCOM Mount'        / The telescope mount                            \n",
       "OBJCTRA = '23 49 15.320'       / SBIGFITSEXT The right ascension of the center o\n",
       "OBJCTDEC= '+02 11 34.97'       / SBIGFITSEXT The declination of the center of th\n",
       "OBJECT  = 'HIP 117445'         / SBIGFITSEXT The name of the object imaged      \n",
       "INSTRUME= 'Gx/Cx USB'          / SBIGFITSEXT The model camera used.             \n",
       "XPIXSZ  =                   9. / SBIGFITSEXT Pixel width in microns after binnin\n",
       "YPIXSZ  =                   9. / SBIGFITSEXT Pixel height in microns after binni\n",
       "FOCPOS  =                2085. / The focuser position.                          \n",
       "FOCTEMP =     9.00021553039551 / The focuser temperature in degrees C.          \n",
       "FOCTMPSC= 'Focuser (Default)'  / The focuser temperature source.                \n",
       "FILTER  = 'B       '           / SBIGFITSEXT The optical filter used to take ima\n",
       "DATE-OBS= '2023-10-06T03:32:46.475' / SBIGFITSEXT UTC of start exp. in ISO 8601 \n",
       "GAIN    =    0.850000023841858 / Camera gain in e-/ADU                          "
      ]
     },
     "execution_count": 4,
     "metadata": {},
     "output_type": "execute_result"
    }
   ],
   "source": [
    "data_B = HIP_B.data          # extraemos los datos\n",
    "header_B = HIP_B.header      # extraemos el header\n",
    "header_B"
   ]
  },
  {
   "cell_type": "code",
   "execution_count": 5,
   "id": "1cd5d40b",
   "metadata": {},
   "outputs": [
    {
     "data": {
      "text/plain": [
       "<photutils.segmentation.core.SegmentationImage>\n",
       "shape: (4096, 4096)\n",
       "nlabels: 94\n",
       "labels: [ 1  2  3  4  5 ... 90 91 92 93 94]"
      ]
     },
     "execution_count": 5,
     "metadata": {},
     "output_type": "execute_result"
    }
   ],
   "source": [
    "# Obtenemos el umbral que utilizaremos para detectar las fuentes\n",
    "\n",
    "threshold_B = detect_threshold(data_B, nsigma = 4) # libreria photutils, sigma la desviacion estandar por pixel\n",
    "                                                   # para considerar el pixel como parte de la fuente\n",
    "\n",
    "\n",
    "# Utilizamos el umbral y el array de la estrella para detectar n fuentes\n",
    "\n",
    "source_B = detect_sources(data_B, threshold_B, npixels = 10) #5 npixels: cantidad min de pixeles que se considera fuente\n",
    "\n",
    "\n",
    "# número de fuentes detectadas \n",
    "source_B"
   ]
  },
  {
   "cell_type": "code",
   "execution_count": 6,
   "id": "4910ae4f",
   "metadata": {},
   "outputs": [
    {
     "data": {
      "image/png": "[encoded data removed]",
      "text/plain": [
       "<Figure size 600x600 with 1 Axes>"
      ]
     },
     "metadata": {},
     "output_type": "display_data"
    }
   ],
   "source": [
    "#asocia un color a cada fuente detectada\n",
    "cmap_source = source_B.make_cmap(seed=9983) #seed: la semilla de la paleta de colores\n",
    "\n",
    "\n",
    "#Mostramos las fuentes obtenidas\n",
    "fig, ax = plt.subplots(1, 1, figsize = (6, 6))\n",
    "ax.imshow(source_B, origin = 'lower', cmap = cmap_source, interpolation = 'nearest')\n",
    "plt.show()"
   ]
  },
  {
   "cell_type": "code",
   "execution_count": 7,
   "id": "941443e5",
   "metadata": {
    "scrolled": false
   },
   "outputs": [
    {
     "data": {
      "text/html": [
       "<div><i>QTable length=94</i>\n",
       "<table id=\"table1718127186704\" class=\"table-striped table-bordered table-condensed\">\n",
       "<thead><tr><th>label</th><th>xcentroid</th><th>ycentroid</th><th>sky_centroid</th><th>bbox_xmin</th><th>bbox_xmax</th><th>bbox_ymin</th><th>bbox_ymax</th><th>area</th><th>semimajor_sigma</th><th>semiminor_sigma</th><th>orientation</th><th>eccentricity</th><th>min_value</th><th>max_value</th><th>local_background</th><th>segment_flux</th><th>segment_fluxerr</th><th>kron_flux</th><th>kron_fluxerr</th></tr></thead>\n",
       "<thead><tr><th></th><th></th><th></th><th></th><th></th><th></th><th></th><th></th><th>pix2</th><th>pix</th><th>pix</th><th>deg</th><th></th><th></th><th></th><th></th><th></th><th></th><th></th><th></th></tr></thead>\n",
       "<thead><tr><th>int32</th><th>float64</th><th>float64</th><th>object</th><th>int32</th><th>int32</th><th>int32</th><th>int32</th><th>float64</th><th>float64</th><th>float64</th><th>float64</th><th>float64</th><th>float64</th><th>float64</th><th>float64</th><th>float64</th><th>float64</th><th>float64</th><th>float64</th></tr></thead>\n",
       "<tr><td>1</td><td>22.102440246705534</td><td>4.924603309699198</td><td>None</td><td>19</td><td>26</td><td>0</td><td>9</td><td>19.0</td><td>2.6332500373580427</td><td>1.9124654271154846</td><td>86.77528198854982</td><td>0.6874035609475816</td><td>40.08489695478315</td><td>126.09192065795838</td><td>0.0</td><td>1126.8157024219631</td><td>nan</td><td>-28.20048575123667</td><td>nan</td></tr>\n",
       "<tr><td>2</td><td>110.78285823841053</td><td>7.224728557594763</td><td>None</td><td>107</td><td>114</td><td>2</td><td>13</td><td>16.0</td><td>3.8762415717038112</td><td>0.7740737862840383</td><td>62.18070936440167</td><td>0.9798576993413937</td><td>33.804409857328146</td><td>133.08415032679738</td><td>0.0</td><td>861.6831378750932</td><td>nan</td><td>324.1333946163459</td><td>nan</td></tr>\n",
       "<tr><td>3</td><td>150.18292640660815</td><td>4.315613684143086</td><td>None</td><td>146</td><td>154</td><td>3</td><td>5</td><td>11.0</td><td>2.5996357461474937</td><td>0.7065022581872239</td><td>-1.2100407766916779</td><td>0.9623623141040464</td><td>33.97538846595057</td><td>75.74109690373032</td><td>0.0</td><td>529.7784920584442</td><td>nan</td><td>1208.1491817791214</td><td>nan</td></tr>\n",
       "<tr><td>4</td><td>3165.594350330409</td><td>15.679082564414257</td><td>None</td><td>3153</td><td>3178</td><td>3</td><td>29</td><td>446.0</td><td>4.862381616924036</td><td>4.553760266017234</td><td>-43.29362318976617</td><td>0.3505907391966194</td><td>33.49823086460822</td><td>670.7151074780502</td><td>0.0</td><td>77911.5382267173</td><td>nan</td><td>86201.68386812344</td><td>nan</td></tr>\n",
       "<tr><td>5</td><td>53.3788425640889</td><td>7.89252023762772</td><td>None</td><td>51</td><td>56</td><td>5</td><td>11</td><td>14.0</td><td>2.0354619660222038</td><td>1.2364940163769815</td><td>56.37963509641072</td><td>0.7943381362493737</td><td>39.12805885002252</td><td>116.89280908955</td><td>0.0</td><td>866.1025346036386</td><td>nan</td><td>638.6676585718499</td><td>nan</td></tr>\n",
       "<tr><td>6</td><td>4065.159502229072</td><td>9.413691716900798</td><td>None</td><td>4063</td><td>4068</td><td>7</td><td>11</td><td>11.0</td><td>1.754665667523952</td><td>1.3579995941648337</td><td>-7.957243304088934</td><td>0.6332633577766809</td><td>33.94706679170574</td><td>75.93367941519229</td><td>0.0</td><td>542.7247982668882</td><td>nan</td><td>318.9842505184815</td><td>nan</td></tr>\n",
       "<tr><td>7</td><td>16.802427432610685</td><td>17.339966443169168</td><td>None</td><td>14</td><td>20</td><td>14</td><td>21</td><td>22.0</td><td>2.2776257178876156</td><td>1.4354946031587699</td><td>61.6170523334503</td><td>0.7763847747798663</td><td>39.48969696969697</td><td>112.65922665828356</td><td>0.0</td><td>1246.3045193264168</td><td>nan</td><td>769.139478105656</td><td>nan</td></tr>\n",
       "<tr><td>8</td><td>43.631801419490955</td><td>16.124461046148003</td><td>None</td><td>41</td><td>46</td><td>14</td><td>18</td><td>12.0</td><td>1.3153685837664082</td><td>1.1180189306585246</td><td>-19.294466335011272</td><td>0.526837107164165</td><td>38.9293502613891</td><td>216.3410805916088</td><td>0.0</td><td>832.0175738795971</td><td>nan</td><td>350.0054757571016</td><td>nan</td></tr>\n",
       "<tr><td>9</td><td>77.58302970294237</td><td>18.153564089179262</td><td>None</td><td>75</td><td>80</td><td>14</td><td>23</td><td>17.0</td><td>2.7132181247310783</td><td>1.3118548941655865</td><td>-67.56868014596547</td><td>0.8753415247600718</td><td>36.84365281311846</td><td>65.93032668401273</td><td>0.0</td><td>817.806813123074</td><td>nan</td><td>746.6344801705128</td><td>nan</td></tr>\n",
       "<tr><td>...</td><td>...</td><td>...</td><td>...</td><td>...</td><td>...</td><td>...</td><td>...</td><td>...</td><td>...</td><td>...</td><td>...</td><td>...</td><td>...</td><td>...</td><td>...</td><td>...</td><td>...</td><td>...</td><td>...</td></tr>\n",
       "<tr><td>85</td><td>3.0400041776882727</td><td>4069.333295829383</td><td>None</td><td>0</td><td>6</td><td>4067</td><td>4071</td><td>10.0</td><td>1.8468269578210832</td><td>0.8003850033163388</td><td>36.60554762185395</td><td>0.9012094242362423</td><td>38.79376041914741</td><td>99.70032956685499</td><td>0.0</td><td>610.7536725860634</td><td>nan</td><td>422.2277585518839</td><td>nan</td></tr>\n",
       "<tr><td>86</td><td>61.18550089227373</td><td>4068.659375873794</td><td>None</td><td>59</td><td>63</td><td>4067</td><td>4070</td><td>10.0</td><td>1.2893343322365196</td><td>1.044792239766289</td><td>12.978926550292954</td><td>0.5859674151977773</td><td>37.21187892632781</td><td>96.68462504280333</td><td>0.0</td><td>486.3780417302554</td><td>nan</td><td>490.22690519210585</td><td>nan</td></tr>\n",
       "<tr><td>87</td><td>9.480892791975492</td><td>4073.489331428954</td><td>None</td><td>8</td><td>12</td><td>4071</td><td>4077</td><td>12.0</td><td>1.9249544362259188</td><td>1.0526472035729508</td><td>-56.61939512469478</td><td>0.8372353943834707</td><td>38.02404295051353</td><td>77.67075932769102</td><td>0.0</td><td>643.281145469016</td><td>nan</td><td>216.23671185433412</td><td>nan</td></tr>\n",
       "<tr><td>88</td><td>17.572291491661435</td><td>4077.086099947335</td><td>None</td><td>16</td><td>19</td><td>4075</td><td>4080</td><td>10.0</td><td>1.5056537509242294</td><td>0.9012176437659956</td><td>-67.85855607281542</td><td>0.8010811862116747</td><td>37.434218085717575</td><td>114.94413736328355</td><td>0.0</td><td>592.8764139902711</td><td>nan</td><td>380.8490037063005</td><td>nan</td></tr>\n",
       "<tr><td>89</td><td>149.6009753686772</td><td>4081.9317500937377</td><td>None</td><td>142</td><td>156</td><td>4080</td><td>4084</td><td>22.0</td><td>4.740854704127057</td><td>1.1151720911292595</td><td>-2.134944266245483</td><td>0.9719407124526688</td><td>34.750933333333336</td><td>92.8380096448926</td><td>0.0</td><td>1201.3843871579911</td><td>nan</td><td>2654.270084868205</td><td>nan</td></tr>\n",
       "<tr><td>90</td><td>164.38946492463702</td><td>4082.460835517048</td><td>None</td><td>162</td><td>167</td><td>4080</td><td>4085</td><td>11.0</td><td>1.9968074427275149</td><td>0.8281021203266183</td><td>-42.07529413899125</td><td>0.9099522403540525</td><td>34.25402165913153</td><td>79.11888729440336</td><td>0.0</td><td>618.1338889814638</td><td>nan</td><td>627.955160394116</td><td>nan</td></tr>\n",
       "<tr><td>91</td><td>224.08041105974883</td><td>4082.868271734226</td><td>None</td><td>221</td><td>226</td><td>4081</td><td>4085</td><td>10.0</td><td>1.9024402711182196</td><td>0.8164178733701932</td><td>-20.340196522956273</td><td>0.9032368239363632</td><td>33.75362619146291</td><td>120.11921343711593</td><td>0.0</td><td>542.8557789131361</td><td>nan</td><td>604.7332528611871</td><td>nan</td></tr>\n",
       "<tr><td>92</td><td>3189.816914449262</td><td>4092.605877846961</td><td>None</td><td>3174</td><td>3211</td><td>4081</td><td>4095</td><td>365.0</td><td>6.450343247984822</td><td>2.8167638372206145</td><td>-1.1980675529062754</td><td>0.8996148028658183</td><td>33.38107300412694</td><td>1964.1680064308682</td><td>0.0</td><td>68228.51170828466</td><td>nan</td><td>74456.09543767205</td><td>nan</td></tr>\n",
       "<tr><td>93</td><td>199.62099828587475</td><td>4089.1817260781954</td><td>None</td><td>196</td><td>204</td><td>4087</td><td>4092</td><td>20.0</td><td>2.6396104741131516</td><td>1.0345959359849883</td><td>-22.068582076371136</td><td>0.9199864217203925</td><td>34.57024617996604</td><td>98.46848013816927</td><td>0.0</td><td>1005.3418905627843</td><td>nan</td><td>2121.9475875977723</td><td>nan</td></tr>\n",
       "<tr><td>94</td><td>243.81265324872132</td><td>4092.6801433240603</td><td>None</td><td>241</td><td>247</td><td>4090</td><td>4095</td><td>12.0</td><td>2.2524188690633635</td><td>0.7013132871476184</td><td>-29.803447720568066</td><td>0.9502920127317817</td><td>33.264243414335304</td><td>95.20058442913798</td><td>0.0</td><td>607.84685545807</td><td>nan</td><td>556.2607555481213</td><td>nan</td></tr>\n",
       "</table></div>"
      ],
      "text/plain": [
       "<QTable length=94>\n",
       "label     xcentroid          ycentroid      ...     kron_flux      kron_fluxerr\n",
       "                                            ...                                \n",
       "int32      float64            float64       ...      float64         float64   \n",
       "----- ------------------ ------------------ ... ------------------ ------------\n",
       "    1 22.102440246705534  4.924603309699198 ... -28.20048575123667          nan\n",
       "    2 110.78285823841053  7.224728557594763 ...  324.1333946163459          nan\n",
       "    3 150.18292640660815  4.315613684143086 ... 1208.1491817791214          nan\n",
       "    4  3165.594350330409 15.679082564414257 ...  86201.68386812344          nan\n",
       "    5   53.3788425640889   7.89252023762772 ...  638.6676585718499          nan\n",
       "    6  4065.159502229072  9.413691716900798 ...  318.9842505184815          nan\n",
       "    7 16.802427432610685 17.339966443169168 ...   769.139478105656          nan\n",
       "    8 43.631801419490955 16.124461046148003 ...  350.0054757571016          nan\n",
       "    9  77.58302970294237 18.153564089179262 ...  746.6344801705128          nan\n",
       "  ...                ...                ... ...                ...          ...\n",
       "   85 3.0400041776882727  4069.333295829383 ...  422.2277585518839          nan\n",
       "   86  61.18550089227373  4068.659375873794 ... 490.22690519210585          nan\n",
       "   87  9.480892791975492  4073.489331428954 ... 216.23671185433412          nan\n",
       "   88 17.572291491661435  4077.086099947335 ...  380.8490037063005          nan\n",
       "   89  149.6009753686772 4081.9317500937377 ...  2654.270084868205          nan\n",
       "   90 164.38946492463702  4082.460835517048 ...   627.955160394116          nan\n",
       "   91 224.08041105974883  4082.868271734226 ...  604.7332528611871          nan\n",
       "   92  3189.816914449262  4092.605877846961 ...  74456.09543767205          nan\n",
       "   93 199.62099828587475 4089.1817260781954 ... 2121.9475875977723          nan\n",
       "   94 243.81265324872132 4092.6801433240603 ...  556.2607555481213          nan"
      ]
     },
     "execution_count": 7,
     "metadata": {},
     "output_type": "execute_result"
    }
   ],
   "source": [
    "#Obtenemos el catálogo\n",
    "catalogo_B = SourceCatalog(data_B, source_B)\n",
    "tbl_B = catalogo_B.to_table() #Lo pasamos a tabla y  mostramos\n",
    "tbl_B"
   ]
  },
  {
   "cell_type": "markdown",
   "id": "dc3b5ce9",
   "metadata": {},
   "source": [
    "**Proceso de limpieza de los datos**"
   ]
  },
  {
   "cell_type": "code",
   "execution_count": 8,
   "id": "27a2ef21",
   "metadata": {
    "scrolled": false
   },
   "outputs": [
    {
     "data": {
      "text/html": [
       "<div><i>QTable length=94</i>\n",
       "<table id=\"table1718200597392\" class=\"table-striped table-bordered table-condensed\">\n",
       "<thead><tr><th>label</th><th>xcentroid</th><th>ycentroid</th><th>area</th><th>segment_flux</th></tr></thead>\n",
       "<thead><tr><th></th><th></th><th></th><th>pix2</th><th></th></tr></thead>\n",
       "<thead><tr><th>int32</th><th>float64</th><th>float64</th><th>float64</th><th>float64</th></tr></thead>\n",
       "<tr><td>1</td><td>22.102440246705534</td><td>4.924603309699198</td><td>19.0</td><td>1126.8157024219631</td></tr>\n",
       "<tr><td>2</td><td>110.78285823841053</td><td>7.224728557594763</td><td>16.0</td><td>861.6831378750932</td></tr>\n",
       "<tr><td>3</td><td>150.18292640660815</td><td>4.315613684143086</td><td>11.0</td><td>529.7784920584442</td></tr>\n",
       "<tr><td>4</td><td>3165.594350330409</td><td>15.679082564414257</td><td>446.0</td><td>77911.5382267173</td></tr>\n",
       "<tr><td>5</td><td>53.3788425640889</td><td>7.89252023762772</td><td>14.0</td><td>866.1025346036386</td></tr>\n",
       "<tr><td>6</td><td>4065.159502229072</td><td>9.413691716900798</td><td>11.0</td><td>542.7247982668882</td></tr>\n",
       "<tr><td>7</td><td>16.802427432610685</td><td>17.339966443169168</td><td>22.0</td><td>1246.3045193264168</td></tr>\n",
       "<tr><td>8</td><td>43.631801419490955</td><td>16.124461046148003</td><td>12.0</td><td>832.0175738795971</td></tr>\n",
       "<tr><td>9</td><td>77.58302970294237</td><td>18.153564089179262</td><td>17.0</td><td>817.806813123074</td></tr>\n",
       "<tr><td>...</td><td>...</td><td>...</td><td>...</td><td>...</td></tr>\n",
       "<tr><td>85</td><td>3.0400041776882727</td><td>4069.333295829383</td><td>10.0</td><td>610.7536725860634</td></tr>\n",
       "<tr><td>86</td><td>61.18550089227373</td><td>4068.659375873794</td><td>10.0</td><td>486.3780417302554</td></tr>\n",
       "<tr><td>87</td><td>9.480892791975492</td><td>4073.489331428954</td><td>12.0</td><td>643.281145469016</td></tr>\n",
       "<tr><td>88</td><td>17.572291491661435</td><td>4077.086099947335</td><td>10.0</td><td>592.8764139902711</td></tr>\n",
       "<tr><td>89</td><td>149.6009753686772</td><td>4081.9317500937377</td><td>22.0</td><td>1201.3843871579911</td></tr>\n",
       "<tr><td>90</td><td>164.38946492463702</td><td>4082.460835517048</td><td>11.0</td><td>618.1338889814638</td></tr>\n",
       "<tr><td>91</td><td>224.08041105974883</td><td>4082.868271734226</td><td>10.0</td><td>542.8557789131361</td></tr>\n",
       "<tr><td>92</td><td>3189.816914449262</td><td>4092.605877846961</td><td>365.0</td><td>68228.51170828466</td></tr>\n",
       "<tr><td>93</td><td>199.62099828587475</td><td>4089.1817260781954</td><td>20.0</td><td>1005.3418905627843</td></tr>\n",
       "<tr><td>94</td><td>243.81265324872132</td><td>4092.6801433240603</td><td>12.0</td><td>607.84685545807</td></tr>\n",
       "</table></div>"
      ],
      "text/plain": [
       "<QTable length=94>\n",
       "label     xcentroid          ycentroid        area     segment_flux   \n",
       "                                              pix2                    \n",
       "int32      float64            float64       float64      float64      \n",
       "----- ------------------ ------------------ ------- ------------------\n",
       "    1 22.102440246705534  4.924603309699198    19.0 1126.8157024219631\n",
       "    2 110.78285823841053  7.224728557594763    16.0  861.6831378750932\n",
       "    3 150.18292640660815  4.315613684143086    11.0  529.7784920584442\n",
       "    4  3165.594350330409 15.679082564414257   446.0   77911.5382267173\n",
       "    5   53.3788425640889   7.89252023762772    14.0  866.1025346036386\n",
       "    6  4065.159502229072  9.413691716900798    11.0  542.7247982668882\n",
       "    7 16.802427432610685 17.339966443169168    22.0 1246.3045193264168\n",
       "    8 43.631801419490955 16.124461046148003    12.0  832.0175738795971\n",
       "    9  77.58302970294237 18.153564089179262    17.0   817.806813123074\n",
       "  ...                ...                ...     ...                ...\n",
       "   85 3.0400041776882727  4069.333295829383    10.0  610.7536725860634\n",
       "   86  61.18550089227373  4068.659375873794    10.0  486.3780417302554\n",
       "   87  9.480892791975492  4073.489331428954    12.0   643.281145469016\n",
       "   88 17.572291491661435  4077.086099947335    10.0  592.8764139902711\n",
       "   89  149.6009753686772 4081.9317500937377    22.0 1201.3843871579911\n",
       "   90 164.38946492463702  4082.460835517048    11.0  618.1338889814638\n",
       "   91 224.08041105974883  4082.868271734226    10.0  542.8557789131361\n",
       "   92  3189.816914449262  4092.605877846961   365.0  68228.51170828466\n",
       "   93 199.62099828587475 4089.1817260781954    20.0 1005.3418905627843\n",
       "   94 243.81265324872132 4092.6801433240603    12.0    607.84685545807"
      ]
     },
     "execution_count": 8,
     "metadata": {},
     "output_type": "execute_result"
    }
   ],
   "source": [
    "tabla_B = tbl_B['label', 'xcentroid', 'ycentroid', 'area', 'segment_flux'] # organizamos, solo la data importante\n",
    "tabla_B"
   ]
  },
  {
   "cell_type": "markdown",
   "id": "ea9602ae",
   "metadata": {},
   "source": [
    "**Realmente \"segment_flux\" es la luminosidad, por lo que debemos obtener el flujo de verdad de cada estrella**"
   ]
  },
  {
   "cell_type": "code",
   "execution_count": 10,
   "id": "26fe33b2",
   "metadata": {
    "scrolled": false
   },
   "outputs": [
    {
     "data": {
      "text/html": [
       "<div><i>QTable length=94</i>\n",
       "<table id=\"table1718200597392\" class=\"table-striped table-bordered table-condensed\">\n",
       "<thead><tr><th>label</th><th>xcentroid</th><th>ycentroid</th><th>area</th><th>segment_flux</th></tr></thead>\n",
       "<thead><tr><th></th><th></th><th></th><th>pix2</th><th></th></tr></thead>\n",
       "<thead><tr><th>int32</th><th>float64</th><th>float64</th><th>float64</th><th>float64</th></tr></thead>\n",
       "<tr><td>1</td><td>22.102440246705534</td><td>4.924603309699198</td><td>19.0</td><td>13.911304968172384</td></tr>\n",
       "<tr><td>2</td><td>110.78285823841053</td><td>7.224728557594763</td><td>16.0</td><td>10.638063430556706</td></tr>\n",
       "<tr><td>3</td><td>150.18292640660815</td><td>4.315613684143086</td><td>11.0</td><td>6.540475210598077</td></tr>\n",
       "<tr><td>4</td><td>3165.594350330409</td><td>15.679082564414257</td><td>446.0</td><td>961.8708423051519</td></tr>\n",
       "<tr><td>5</td><td>53.3788425640889</td><td>7.89252023762772</td><td>14.0</td><td>10.692623883995537</td></tr>\n",
       "<tr><td>6</td><td>4065.159502229072</td><td>9.413691716900798</td><td>11.0</td><td>6.700306151443065</td></tr>\n",
       "<tr><td>7</td><td>16.802427432610685</td><td>17.339966443169168</td><td>22.0</td><td>15.386475547239712</td></tr>\n",
       "<tr><td>8</td><td>43.631801419490955</td><td>16.124461046148003</td><td>12.0</td><td>10.271821899748112</td></tr>\n",
       "<tr><td>9</td><td>77.58302970294237</td><td>18.153564089179262</td><td>17.0</td><td>10.09638040892684</td></tr>\n",
       "<tr><td>...</td><td>...</td><td>...</td><td>...</td><td>...</td></tr>\n",
       "<tr><td>85</td><td>3.0400041776882727</td><td>4069.333295829383</td><td>10.0</td><td>7.540168797358807</td></tr>\n",
       "<tr><td>86</td><td>61.18550089227373</td><td>4068.659375873794</td><td>10.0</td><td>6.004667181855005</td></tr>\n",
       "<tr><td>87</td><td>9.480892791975492</td><td>4073.489331428954</td><td>12.0</td><td>7.94174253665452</td></tr>\n",
       "<tr><td>88</td><td>17.572291491661435</td><td>4077.086099947335</td><td>10.0</td><td>7.319461901114457</td></tr>\n",
       "<tr><td>89</td><td>149.6009753686772</td><td>4081.9317500937377</td><td>22.0</td><td>14.831906014296187</td></tr>\n",
       "<tr><td>90</td><td>164.38946492463702</td><td>4082.460835517048</td><td>11.0</td><td>7.631282580018071</td></tr>\n",
       "<tr><td>91</td><td>224.08041105974883</td><td>4082.868271734226</td><td>10.0</td><td>6.70192319645847</td></tr>\n",
       "<tr><td>92</td><td>3189.816914449262</td><td>4092.605877846961</td><td>365.0</td><td>842.3273050405513</td></tr>\n",
       "<tr><td>93</td><td>199.62099828587475</td><td>4089.1817260781954</td><td>20.0</td><td>12.411628278552893</td></tr>\n",
       "<tr><td>94</td><td>243.81265324872132</td><td>4092.6801433240603</td><td>12.0</td><td>7.504282166149013</td></tr>\n",
       "</table></div>"
      ],
      "text/plain": [
       "<QTable length=94>\n",
       "label     xcentroid          ycentroid        area     segment_flux   \n",
       "                                              pix2                    \n",
       "int32      float64            float64       float64      float64      \n",
       "----- ------------------ ------------------ ------- ------------------\n",
       "    1 22.102440246705534  4.924603309699198    19.0 13.911304968172384\n",
       "    2 110.78285823841053  7.224728557594763    16.0 10.638063430556706\n",
       "    3 150.18292640660815  4.315613684143086    11.0  6.540475210598077\n",
       "    4  3165.594350330409 15.679082564414257   446.0  961.8708423051519\n",
       "    5   53.3788425640889   7.89252023762772    14.0 10.692623883995537\n",
       "    6  4065.159502229072  9.413691716900798    11.0  6.700306151443065\n",
       "    7 16.802427432610685 17.339966443169168    22.0 15.386475547239712\n",
       "    8 43.631801419490955 16.124461046148003    12.0 10.271821899748112\n",
       "    9  77.58302970294237 18.153564089179262    17.0  10.09638040892684\n",
       "  ...                ...                ...     ...                ...\n",
       "   85 3.0400041776882727  4069.333295829383    10.0  7.540168797358807\n",
       "   86  61.18550089227373  4068.659375873794    10.0  6.004667181855005\n",
       "   87  9.480892791975492  4073.489331428954    12.0   7.94174253665452\n",
       "   88 17.572291491661435  4077.086099947335    10.0  7.319461901114457\n",
       "   89  149.6009753686772 4081.9317500937377    22.0 14.831906014296187\n",
       "   90 164.38946492463702  4082.460835517048    11.0  7.631282580018071\n",
       "   91 224.08041105974883  4082.868271734226    10.0   6.70192319645847\n",
       "   92  3189.816914449262  4092.605877846961   365.0  842.3273050405513\n",
       "   93 199.62099828587475 4089.1817260781954    20.0 12.411628278552893\n",
       "   94 243.81265324872132 4092.6801433240603    12.0  7.504282166149013"
      ]
     },
     "execution_count": 10,
     "metadata": {},
     "output_type": "execute_result"
    }
   ],
   "source": [
    "tabla_B['segment_flux'] = tabla_B['segment_flux']/header_B['EXPTIME'] #Dividimos el \"flujo\"(energy) por el tiempo de exposición \n",
    "tabla_B"
   ]
  },
  {
   "cell_type": "code",
   "execution_count": 11,
   "id": "b268064a",
   "metadata": {},
   "outputs": [
    {
     "data": {
      "text/plain": [
       "(33.755035740950824, 'zero point filtro B para nuestro telescopio')"
      ]
     },
     "execution_count": 11,
     "metadata": {},
     "output_type": "execute_result"
    }
   ],
   "source": [
    "# Nuestra estrella a estudiar, que es la fuente con mayor area\n",
    "estrellaB = np.argmax(tabla_B['area']) \n",
    "\n",
    "estrella_flujoB = tabla_B['segment_flux'][estrellaB] # buscamos el flujo de \"estrella\"(será el flujo de la fuente con mayor área)\n",
    "\n",
    "magnitud_aparente_B = -2.5*np.log(estrella_flujoB) # Calculamos la magnitud aparente\n",
    "\n",
    "zeropoint_B = 7 - magnitud_aparente_B  # Obtenemos el zeropoint para calibrar\n",
    "zeropoint_B, 'zero point filtro B para nuestro telescopio'"
   ]
  },
  {
   "cell_type": "code",
   "execution_count": 12,
   "id": "dcefb77a",
   "metadata": {
    "scrolled": false
   },
   "outputs": [
    {
     "data": {
      "text/html": [
       "<div><i>QTable length=94</i>\n",
       "<table id=\"table1718200597392\" class=\"table-striped table-bordered table-condensed\">\n",
       "<thead><tr><th>label</th><th>xcentroid</th><th>ycentroid</th><th>area</th><th>segment_flux</th><th>magnitude</th></tr></thead>\n",
       "<thead><tr><th></th><th></th><th></th><th>pix2</th><th></th><th></th></tr></thead>\n",
       "<thead><tr><th>int32</th><th>float64</th><th>float64</th><th>float64</th><th>float64</th><th>float64</th></tr></thead>\n",
       "<tr><td>1</td><td>22.102440246705534</td><td>4.924603309699198</td><td>19.0</td><td>13.911304968172384</td><td>27.173281199339737</td></tr>\n",
       "<tr><td>2</td><td>110.78285823841053</td><td>7.224728557594763</td><td>16.0</td><td>10.638063430556706</td><td>27.84393959359674</td></tr>\n",
       "<tr><td>3</td><td>150.18292640660815</td><td>4.315613684143086</td><td>11.0</td><td>6.540475210598077</td><td>29.060011178450075</td></tr>\n",
       "<tr><td>4</td><td>3165.594350330409</td><td>15.679082564414257</td><td>446.0</td><td>961.8708423051519</td><td>16.582835285715745</td></tr>\n",
       "<tr><td>5</td><td>53.3788425640889</td><td>7.89252023762772</td><td>14.0</td><td>10.692623883995537</td><td>27.83115037315985</td></tr>\n",
       "<tr><td>6</td><td>4065.159502229072</td><td>9.413691716900798</td><td>11.0</td><td>6.700306151443065</td><td>28.999652691955315</td></tr>\n",
       "<tr><td>7</td><td>16.802427432610685</td><td>17.339966443169168</td><td>22.0</td><td>15.386475547239712</td><td>26.921313460080857</td></tr>\n",
       "<tr><td>8</td><td>43.631801419490955</td><td>16.124461046148003</td><td>12.0</td><td>10.271821899748112</td><td>27.931524720007992</td></tr>\n",
       "<tr><td>9</td><td>77.58302970294237</td><td>18.153564089179262</td><td>17.0</td><td>10.09638040892684</td><td>27.97459328029672</td></tr>\n",
       "<tr><td>...</td><td>...</td><td>...</td><td>...</td><td>...</td><td>...</td></tr>\n",
       "<tr><td>85</td><td>3.0400041776882727</td><td>4069.333295829383</td><td>10.0</td><td>7.540168797358807</td><td>28.704424319233585</td></tr>\n",
       "<tr><td>86</td><td>61.18550089227373</td><td>4068.659375873794</td><td>10.0</td><td>6.004667181855005</td><td>29.273693164722253</td></tr>\n",
       "<tr><td>87</td><td>9.480892791975492</td><td>4073.489331428954</td><td>12.0</td><td>7.94174253665452</td><td>28.574703955362633</td></tr>\n",
       "<tr><td>88</td><td>17.572291491661435</td><td>4077.086099947335</td><td>10.0</td><td>7.319461901114457</td><td>28.77869370471468</td></tr>\n",
       "<tr><td>89</td><td>149.6009753686772</td><td>4081.9317500937377</td><td>22.0</td><td>14.831906014296187</td><td>27.0130840606534</td></tr>\n",
       "<tr><td>90</td><td>164.38946492463702</td><td>4082.460835517048</td><td>11.0</td><td>7.631282580018071</td><td>28.67439592055682</td></tr>\n",
       "<tr><td>91</td><td>224.08041105974883</td><td>4082.868271734226</td><td>10.0</td><td>6.70192319645847</td><td>28.999049417312985</td></tr>\n",
       "<tr><td>92</td><td>3189.816914449262</td><td>4092.605877846961</td><td>365.0</td><td>842.3273050405513</td><td>16.914614085863178</td></tr>\n",
       "<tr><td>93</td><td>199.62099828587475</td><td>4089.1817260781954</td><td>20.0</td><td>12.411628278552893</td><td>27.45845124699062</td></tr>\n",
       "<tr><td>94</td><td>243.81265324872132</td><td>4092.6801433240603</td><td>12.0</td><td>7.504282166149013</td><td>28.716351208211496</td></tr>\n",
       "</table></div>"
      ],
      "text/plain": [
       "<QTable length=94>\n",
       "label     xcentroid      ...    segment_flux        magnitude     \n",
       "                         ...                                      \n",
       "int32      float64       ...      float64            float64      \n",
       "----- ------------------ ... ------------------ ------------------\n",
       "    1 22.102440246705534 ... 13.911304968172384 27.173281199339737\n",
       "    2 110.78285823841053 ... 10.638063430556706  27.84393959359674\n",
       "    3 150.18292640660815 ...  6.540475210598077 29.060011178450075\n",
       "    4  3165.594350330409 ...  961.8708423051519 16.582835285715745\n",
       "    5   53.3788425640889 ... 10.692623883995537  27.83115037315985\n",
       "    6  4065.159502229072 ...  6.700306151443065 28.999652691955315\n",
       "    7 16.802427432610685 ... 15.386475547239712 26.921313460080857\n",
       "    8 43.631801419490955 ... 10.271821899748112 27.931524720007992\n",
       "    9  77.58302970294237 ...  10.09638040892684  27.97459328029672\n",
       "  ...                ... ...                ...                ...\n",
       "   85 3.0400041776882727 ...  7.540168797358807 28.704424319233585\n",
       "   86  61.18550089227373 ...  6.004667181855005 29.273693164722253\n",
       "   87  9.480892791975492 ...   7.94174253665452 28.574703955362633\n",
       "   88 17.572291491661435 ...  7.319461901114457  28.77869370471468\n",
       "   89  149.6009753686772 ... 14.831906014296187   27.0130840606534\n",
       "   90 164.38946492463702 ...  7.631282580018071  28.67439592055682\n",
       "   91 224.08041105974883 ...   6.70192319645847 28.999049417312985\n",
       "   92  3189.816914449262 ...  842.3273050405513 16.914614085863178\n",
       "   93 199.62099828587475 ... 12.411628278552893  27.45845124699062\n",
       "   94 243.81265324872132 ...  7.504282166149013 28.716351208211496"
      ]
     },
     "execution_count": 12,
     "metadata": {},
     "output_type": "execute_result"
    }
   ],
   "source": [
    "# ahora utilizamos el zeropoint para obtener la magnitud de todas las fuentes\n",
    "\n",
    "flujo_fuentes_B = tabla_B['segment_flux']  \n",
    "\n",
    "tabla_B['magnitude'] = zeropoint_B - 2.5*np.log(flujo_fuentes_B)\n",
    "tabla_B"
   ]
  },
  {
   "cell_type": "code",
   "execution_count": 13,
   "id": "3c1856f6",
   "metadata": {},
   "outputs": [
    {
     "data": {
      "text/plain": [
       "7.0"
      ]
     },
     "execution_count": 13,
     "metadata": {},
     "output_type": "execute_result"
    }
   ],
   "source": [
    "# comprobamos la magnitud aparente de nuestra estrella para el filtro B\n",
    "\n",
    "magnitud_a_B = tabla_B['magnitude'][estrellaB]\n",
    "magnitud_a_B"
   ]
  },
  {
   "cell_type": "markdown",
   "id": "384690af",
   "metadata": {},
   "source": [
    "**ZERO POINT ESTRELLA V**"
   ]
  },
  {
   "cell_type": "code",
   "execution_count": 14,
   "id": "3ada9bd1",
   "metadata": {},
   "outputs": [
    {
     "data": {
      "text/plain": [
       "SIMPLE  =                    T / conforms to FITS standard                      \n",
       "BITPIX  =                  -64 / array data type                                \n",
       "NAXIS   =                    2 / number of array dimensions                     \n",
       "NAXIS1  =                 4096                                                  \n",
       "NAXIS2  =                 4096                                                  \n",
       "COMMENT   FITS (Flexible Image Transport System) format is defined in 'Astronomy\n",
       "COMMENT   and Astrophysics', volume 376, page 359; bibcode: 2001A&A...376..359H \n",
       "OBSERVER= 'CAmus, Rodriguez, Morales, Guerrero' / SBIGFITSEXT The name of the ob\n",
       "ORIGIN  = 'MAS500  '           / Description of location                        \n",
       "TELESCOP= 'MAS500  '           / SBIGFITSEXT The model Telescope                \n",
       "FOCALLEN=                6500. / SBIGFITSEXT Telescope focal length in mm       \n",
       "APTDIA  =                 500. / SBIGFITSEXT Aperture diameter in mm            \n",
       "SBUUID  = '{ff63206e-4e12-439f-9762-d1d549a38c56}' / Photo UUID                 \n",
       "EXPTIME =                  2.5 / SBIGFITSEXT Total exposure time in seconds     \n",
       "SWCREATE= 'TheSkyX Version 10.5.0 Build 12545' / SBIGFITSEXT Name & version of s\n",
       "COLORCCD=                    0 / Non zero if image is from a Bayer color ccd    \n",
       "DISPINCR=                    1 / Non zero to automatically display the image in \n",
       "PICTTYPE=                    1 / Image type as index 0= Unknown 1=Light, 2=Bias,\n",
       "IMAGETYP= 'Light Frame'        / SBIGFITSEXT Light, Dark, Bias or Flat          \n",
       "XORGSUBF=                    0 / SBIGFITSEXT Subframe x upper-left pixel in bin \n",
       "YORGSUBF=                    0 / SBIGFITSEXT Subframe y upper-left pixel in bin \n",
       "XBINNING=                    1 / SBIGFITSEXT Binning factor in width            \n",
       "YBINNING=                    1 / SBIGFITSEXT Binning factor in height           \n",
       "CCD-TEMP=                -24.8 / SBIGFITSEXT Temperature of the CCD             \n",
       "SET-TEMP=                 -25. / SBIGFITSEXT The cooler setpoint in degrees C   \n",
       "SITELAT = '-33 25 34.61'       / SBIGFITSEXT Latitude of the imaging location   \n",
       "SITELONG= '+70 33 59.62'       / SBIGFITSEXT Longitude of the imaging location  \n",
       "LST     = '+23 48 20.78'       / Local sidereal time                            \n",
       "OBSGEO-B=            -33.42628 / Latitude of the observation in degrees, North +\n",
       "OBSGEO-L=            -70.56656 / Longitude of the observation in degrees, East +\n",
       "OBSGEO-H=                1500. / Altitude of the observation in meters          \n",
       "BTP     =                    1 / Beyond the pole                                \n",
       "CENTAZ  =    0.913827255682946 / SBIGFITSEXT Azimuth of the center of the image \n",
       "CENTALT =     54.2436865510478 / SBIGFITSEXT Altitude of the center of the image\n",
       "AIRMASS =     1.23226627353777 / Airmass of the telescope                       \n",
       "TELEHA  = '-00 02 08.26'       / Telescope hour angle                           \n",
       "MOUNT   = 'ASCOM Mount'        / The telescope mount                            \n",
       "OBJCTRA = '23 49 15.325'       / SBIGFITSEXT The right ascension of the center o\n",
       "OBJCTDEC= '+02 11 34.97'       / SBIGFITSEXT The declination of the center of th\n",
       "OBJECT  = 'HIP 117445'         / SBIGFITSEXT The name of the object imaged      \n",
       "INSTRUME= 'Gx/Cx USB'          / SBIGFITSEXT The model camera used.             \n",
       "XPIXSZ  =                   9. / SBIGFITSEXT Pixel width in microns after binnin\n",
       "YPIXSZ  =                   9. / SBIGFITSEXT Pixel height in microns after binni\n",
       "FOCPOS  =                2085. / The focuser position.                          \n",
       "FOCTEMP =     9.00026702880859 / The focuser temperature in degrees C.          \n",
       "FOCTMPSC= 'Focuser (Default)'  / The focuser temperature source.                \n",
       "FILTER  = 'V       '           / SBIGFITSEXT The optical filter used to take ima\n",
       "DATE-OBS= '2023-10-06T03:32:34.426' / SBIGFITSEXT UTC of start exp. in ISO 8601 \n",
       "GAIN    =    0.850000023841858 / Camera gain in e-/ADU                          "
      ]
     },
     "execution_count": 14,
     "metadata": {},
     "output_type": "execute_result"
    }
   ],
   "source": [
    "data_V = HIP_V.data\n",
    "header_V = HIP_V.header\n",
    "header_V"
   ]
  },
  {
   "cell_type": "code",
   "execution_count": 15,
   "id": "e3f74293",
   "metadata": {},
   "outputs": [
    {
     "data": {
      "text/plain": [
       "<photutils.segmentation.core.SegmentationImage>\n",
       "shape: (4096, 4096)\n",
       "nlabels: 882\n",
       "labels: [  1   2   3   4   5 ... 878 879 880 881 882]"
      ]
     },
     "execution_count": 15,
     "metadata": {},
     "output_type": "execute_result"
    }
   ],
   "source": [
    "# Obtenemos el umbral que utilizaremos para detectar las fuentes\n",
    "\n",
    "threshold_V = detect_threshold(data_V, nsigma = 4)# sigma la desviacion estandar por pixel para considerarlo como fuente\n",
    "\n",
    "# Utilizamos el umbral y el array de la estrella para detectar fuentes\n",
    "source_V = detect_sources(data_V, threshold_V, npixels = 10)# npixels: tamaño  min de pixeles que se considera fuente\n",
    "\n",
    "# número de fuentes detectadas \n",
    "source_V"
   ]
  },
  {
   "cell_type": "code",
   "execution_count": 16,
   "id": "c5b377b5",
   "metadata": {},
   "outputs": [
    {
     "data": {
      "image/png": "[encoded data removed]",
      "text/plain": [
       "<Figure size 600x600 with 1 Axes>"
      ]
     },
     "metadata": {},
     "output_type": "display_data"
    }
   ],
   "source": [
    "#asocia un color a cada fuente detectada\n",
    "cmap_source = source_V.make_cmap(seed=9983) #seed: la semilla de la paleta de colores\n",
    "\n",
    "#Mostramos las fuentes obtenidas\n",
    "fig, ax = plt.subplots(1, 1, figsize = (6, 6))\n",
    "ax.imshow(source_V, origin = 'lower', cmap = cmap_source, interpolation = 'nearest')\n",
    "plt.show()"
   ]
  },
  {
   "cell_type": "code",
   "execution_count": 17,
   "id": "1aff534b",
   "metadata": {
    "scrolled": false
   },
   "outputs": [
    {
     "data": {
      "text/html": [
       "<div><i>QTable length=882</i>\n",
       "<table id=\"table1718127103120\" class=\"table-striped table-bordered table-condensed\">\n",
       "<thead><tr><th>label</th><th>xcentroid</th><th>ycentroid</th><th>sky_centroid</th><th>bbox_xmin</th><th>bbox_xmax</th><th>bbox_ymin</th><th>bbox_ymax</th><th>area</th><th>semimajor_sigma</th><th>semiminor_sigma</th><th>orientation</th><th>eccentricity</th><th>min_value</th><th>max_value</th><th>local_background</th><th>segment_flux</th><th>segment_fluxerr</th><th>kron_flux</th><th>kron_fluxerr</th></tr></thead>\n",
       "<thead><tr><th></th><th></th><th></th><th></th><th></th><th></th><th></th><th></th><th>pix2</th><th>pix</th><th>pix</th><th>deg</th><th></th><th></th><th></th><th></th><th></th><th></th><th></th><th></th></tr></thead>\n",
       "<thead><tr><th>int32</th><th>float64</th><th>float64</th><th>object</th><th>int32</th><th>int32</th><th>int32</th><th>int32</th><th>float64</th><th>float64</th><th>float64</th><th>float64</th><th>float64</th><th>float64</th><th>float64</th><th>float64</th><th>float64</th><th>float64</th><th>float64</th><th>float64</th></tr></thead>\n",
       "<tr><td>1</td><td>4.533569025871889</td><td>3.444939474958292</td><td>None</td><td>0</td><td>9</td><td>0</td><td>7</td><td>28.0</td><td>2.7852013342829314</td><td>1.6219188344097757</td><td>-6.647043822150399</td><td>0.8129492768678318</td><td>41.154574132492115</td><td>209.81022836925058</td><td>0.0</td><td>2505.2411062188844</td><td>nan</td><td>-1309.9593445651758</td><td>nan</td></tr>\n",
       "<tr><td>2</td><td>22.507132975854155</td><td>13.250087815892254</td><td>None</td><td>11</td><td>34</td><td>0</td><td>30</td><td>154.0</td><td>9.381682970452795</td><td>3.8424776443758812</td><td>58.516977407553355</td><td>0.9122776529264195</td><td>38.95491191400418</td><td>380.2266839378238</td><td>0.0</td><td>15148.910081151724</td><td>nan</td><td>-19048.709939630935</td><td>nan</td></tr>\n",
       "<tr><td>3</td><td>26.734313787956406</td><td>2.767497535389367</td><td>None</td><td>25</td><td>29</td><td>0</td><td>5</td><td>12.0</td><td>1.5169211566461964</td><td>1.2438983470624618</td><td>-81.57242362021555</td><td>0.5723417992012156</td><td>41.115663410022066</td><td>252.74782047142395</td><td>0.0</td><td>1600.700112157337</td><td>nan</td><td>-182.98742952753466</td><td>nan</td></tr>\n",
       "<tr><td>4</td><td>55.90401422039968</td><td>7.904389065335463</td><td>None</td><td>36</td><td>75</td><td>0</td><td>21</td><td>232.0</td><td>9.664650944264762</td><td>5.393154005160392</td><td>-4.948652610552603</td><td>0.8298215518928241</td><td>38.05717619603267</td><td>307.50736593989393</td><td>0.0</td><td>20029.33847174423</td><td>nan</td><td>-22937.657337697874</td><td>nan</td></tr>\n",
       "<tr><td>5</td><td>81.04186216504205</td><td>5.955181395464425</td><td>None</td><td>72</td><td>87</td><td>0</td><td>14</td><td>70.0</td><td>3.822081508774394</td><td>3.330681042003776</td><td>21.099303688147057</td><td>0.49051776627049853</td><td>37.596541786743515</td><td>328.5659259259259</td><td>0.0</td><td>6538.17641989125</td><td>nan</td><td>-5903.906026653272</td><td>nan</td></tr>\n",
       "<tr><td>6</td><td>91.55295150995757</td><td>2.9725235567958834</td><td>None</td><td>89</td><td>94</td><td>0</td><td>5</td><td>14.0</td><td>1.9901989679624703</td><td>1.0272441066665197</td><td>-46.15089402929081</td><td>0.856497325413402</td><td>37.58571016997983</td><td>169.13569576490926</td><td>0.0</td><td>1154.9977799979365</td><td>nan</td><td>-381.54435604754315</td><td>nan</td></tr>\n",
       "<tr><td>7</td><td>99.68768173144424</td><td>2.6169679046829066</td><td>None</td><td>96</td><td>104</td><td>0</td><td>6</td><td>27.0</td><td>2.613207211754222</td><td>1.466182076641842</td><td>-24.304419052843834</td><td>0.8277709764257084</td><td>37.81449275362319</td><td>364.0922444183314</td><td>0.0</td><td>2566.43179459639</td><td>nan</td><td>-1363.899038118597</td><td>nan</td></tr>\n",
       "<tr><td>8</td><td>116.75063364593193</td><td>2.883633961891127</td><td>None</td><td>105</td><td>127</td><td>0</td><td>7</td><td>54.0</td><td>6.144953519919915</td><td>1.685188174805887</td><td>3.0442599488996107</td><td>0.9616614625649353</td><td>36.3195991091314</td><td>261.6676217765043</td><td>0.0</td><td>5068.480748058068</td><td>nan</td><td>-3803.926253248575</td><td>nan</td></tr>\n",
       "<tr><td>9</td><td>142.58154518089827</td><td>2.468383201313743</td><td>None</td><td>137</td><td>148</td><td>0</td><td>6</td><td>30.0</td><td>2.6496379591726664</td><td>1.6400088700053363</td><td>-9.145658846987555</td><td>0.7854257933575501</td><td>32.25216316440049</td><td>299.9846704138988</td><td>0.0</td><td>2739.2530929677955</td><td>nan</td><td>201.94473546649596</td><td>nan</td></tr>\n",
       "<tr><td>...</td><td>...</td><td>...</td><td>...</td><td>...</td><td>...</td><td>...</td><td>...</td><td>...</td><td>...</td><td>...</td><td>...</td><td>...</td><td>...</td><td>...</td><td>...</td><td>...</td><td>...</td><td>...</td><td>...</td></tr>\n",
       "<tr><td>873</td><td>4052.261784191414</td><td>4091.0941669269</td><td>None</td><td>4049</td><td>4057</td><td>4089</td><td>4093</td><td>14.0</td><td>2.446910985507762</td><td>1.0751304258053607</td><td>1.6937703110160682</td><td>0.89829995974715</td><td>31.240421455938694</td><td>94.76513317191282</td><td>0.0</td><td>723.9386998887512</td><td>nan</td><td>-1349.8112899580801</td><td>nan</td></tr>\n",
       "<tr><td>874</td><td>4093.2702923284223</td><td>4091.425248518884</td><td>None</td><td>4091</td><td>4095</td><td>4089</td><td>4093</td><td>12.0</td><td>1.4694977666749494</td><td>1.1327978372587453</td><td>-30.679146896345138</td><td>0.6369874799706612</td><td>31.912915851272015</td><td>161.58038147138964</td><td>0.0</td><td>843.3742253957471</td><td>nan</td><td>214.2330379646501</td><td>nan</td></tr>\n",
       "<tr><td>875</td><td>49.73596351574233</td><td>4091.1493090190775</td><td>None</td><td>47</td><td>53</td><td>4090</td><td>4093</td><td>14.0</td><td>1.6690618095703762</td><td>0.8140677098726393</td><td>-10.256949776672002</td><td>0.872989108147958</td><td>34.780058651026394</td><td>122.38273921200751</td><td>0.0</td><td>833.1285802714173</td><td>nan</td><td>-240.3874657558579</td><td>nan</td></tr>\n",
       "<tr><td>876</td><td>137.2937245513802</td><td>4093.1952958744714</td><td>None</td><td>135</td><td>140</td><td>4090</td><td>4095</td><td>12.0</td><td>1.4266228979473994</td><td>0.9143900184712414</td><td>-63.70450442505213</td><td>0.767584931450721</td><td>32.84491440080564</td><td>373.71354166666663</td><td>0.0</td><td>1042.1958154206634</td><td>nan</td><td>-191.77247587533924</td><td>nan</td></tr>\n",
       "<tr><td>877</td><td>174.9967832899972</td><td>4091.7767649467737</td><td>None</td><td>171</td><td>178</td><td>4090</td><td>4095</td><td>17.0</td><td>2.044448862393095</td><td>1.444074956133147</td><td>-3.1136957059126193</td><td>0.707873245880137</td><td>31.46647370959961</td><td>183.51150895140665</td><td>0.0</td><td>1306.2278082996036</td><td>nan</td><td>-1481.429658763509</td><td>nan</td></tr>\n",
       "<tr><td>878</td><td>247.71917475997643</td><td>4092.969342659475</td><td>None</td><td>245</td><td>250</td><td>4090</td><td>4095</td><td>15.0</td><td>2.0455818507539028</td><td>1.2265013599860655</td><td>-45.86829691429013</td><td>0.8003106548309684</td><td>29.238009861048855</td><td>166.6349280074315</td><td>0.0</td><td>1150.9441395771469</td><td>nan</td><td>-36.45211502627211</td><td>nan</td></tr>\n",
       "<tr><td>879</td><td>304.54470243547837</td><td>4093.1316787950113</td><td>None</td><td>302</td><td>306</td><td>4090</td><td>4095</td><td>10.0</td><td>1.8907927534841542</td><td>1.1142042430646468</td><td>-60.03965295089333</td><td>0.8079296982012696</td><td>35.73593864134404</td><td>100.27671022290546</td><td>0.0</td><td>640.7497044243999</td><td>nan</td><td>175.82141315793453</td><td>nan</td></tr>\n",
       "<tr><td>880</td><td>3973.4622910981875</td><td>4092.2729370275233</td><td>None</td><td>3970</td><td>3977</td><td>4090</td><td>4094</td><td>12.0</td><td>2.7127866630385173</td><td>0.6344514400827422</td><td>28.008492394433755</td><td>0.9722668101065184</td><td>42.00257566001288</td><td>117.13580246913581</td><td>0.0</td><td>773.8251023733134</td><td>nan</td><td>-177.98539290504465</td><td>nan</td></tr>\n",
       "<tr><td>881</td><td>4082.9012012097955</td><td>4093.1799170051563</td><td>None</td><td>4080</td><td>4086</td><td>4090</td><td>4095</td><td>15.0</td><td>1.9714564206538696</td><td>1.275804222727554</td><td>-31.85342971247274</td><td>0.762372941844617</td><td>31.143470995464313</td><td>143.5730007336757</td><td>0.0</td><td>879.3155634387025</td><td>nan</td><td>-1189.8434210612647</td><td>nan</td></tr>\n",
       "<tr><td>882</td><td>27.84271640736591</td><td>4093.2552914683083</td><td>None</td><td>26</td><td>29</td><td>4092</td><td>4095</td><td>10.0</td><td>1.272225553887599</td><td>0.6533877743551868</td><td>-58.314675147555654</td><td>0.8580425732710963</td><td>36.048632218844986</td><td>225.88971763452318</td><td>0.0</td><td>875.1390253789065</td><td>nan</td><td>208.98159034292613</td><td>nan</td></tr>\n",
       "</table></div>"
      ],
      "text/plain": [
       "<QTable length=882>\n",
       "label     xcentroid          ycentroid      ...      kron_flux      kron_fluxerr\n",
       "                                            ...                                 \n",
       "int32      float64            float64       ...       float64         float64   \n",
       "----- ------------------ ------------------ ... ------------------- ------------\n",
       "    1  4.533569025871889  3.444939474958292 ... -1309.9593445651758          nan\n",
       "    2 22.507132975854155 13.250087815892254 ... -19048.709939630935          nan\n",
       "    3 26.734313787956406  2.767497535389367 ... -182.98742952753466          nan\n",
       "    4  55.90401422039968  7.904389065335463 ... -22937.657337697874          nan\n",
       "    5  81.04186216504205  5.955181395464425 ...  -5903.906026653272          nan\n",
       "    6  91.55295150995757 2.9725235567958834 ... -381.54435604754315          nan\n",
       "    7  99.68768173144424 2.6169679046829066 ...  -1363.899038118597          nan\n",
       "    8 116.75063364593193  2.883633961891127 ...  -3803.926253248575          nan\n",
       "    9 142.58154518089827  2.468383201313743 ...  201.94473546649596          nan\n",
       "  ...                ...                ... ...                 ...          ...\n",
       "  873  4052.261784191414    4091.0941669269 ... -1349.8112899580801          nan\n",
       "  874 4093.2702923284223  4091.425248518884 ...   214.2330379646501          nan\n",
       "  875  49.73596351574233 4091.1493090190775 ...  -240.3874657558579          nan\n",
       "  876  137.2937245513802 4093.1952958744714 ... -191.77247587533924          nan\n",
       "  877  174.9967832899972 4091.7767649467737 ...  -1481.429658763509          nan\n",
       "  878 247.71917475997643  4092.969342659475 ...  -36.45211502627211          nan\n",
       "  879 304.54470243547837 4093.1316787950113 ...  175.82141315793453          nan\n",
       "  880 3973.4622910981875 4092.2729370275233 ... -177.98539290504465          nan\n",
       "  881 4082.9012012097955 4093.1799170051563 ... -1189.8434210612647          nan\n",
       "  882  27.84271640736591 4093.2552914683083 ...  208.98159034292613          nan"
      ]
     },
     "execution_count": 17,
     "metadata": {},
     "output_type": "execute_result"
    }
   ],
   "source": [
    "catalogo_V = SourceCatalog(data_V, source_V)  \n",
    "tbl_V = catalogo_V.to_table() # Lo pasamos a tabla y luego lo mostramos\n",
    "tbl_V"
   ]
  },
  {
   "cell_type": "code",
   "execution_count": 18,
   "id": "bdefd747",
   "metadata": {},
   "outputs": [
    {
     "data": {
      "text/html": [
       "<div><i>QTable length=882</i>\n",
       "<table id=\"table1718561201040\" class=\"table-striped table-bordered table-condensed\">\n",
       "<thead><tr><th>label</th><th>xcentroid</th><th>ycentroid</th><th>area</th><th>segment_flux</th></tr></thead>\n",
       "<thead><tr><th></th><th></th><th></th><th>pix2</th><th></th></tr></thead>\n",
       "<thead><tr><th>int32</th><th>float64</th><th>float64</th><th>float64</th><th>float64</th></tr></thead>\n",
       "<tr><td>1</td><td>4.533569025871889</td><td>3.444939474958292</td><td>28.0</td><td>2505.2411062188844</td></tr>\n",
       "<tr><td>2</td><td>22.507132975854155</td><td>13.250087815892254</td><td>154.0</td><td>15148.910081151724</td></tr>\n",
       "<tr><td>3</td><td>26.734313787956406</td><td>2.767497535389367</td><td>12.0</td><td>1600.700112157337</td></tr>\n",
       "<tr><td>4</td><td>55.90401422039968</td><td>7.904389065335463</td><td>232.0</td><td>20029.33847174423</td></tr>\n",
       "<tr><td>5</td><td>81.04186216504205</td><td>5.955181395464425</td><td>70.0</td><td>6538.17641989125</td></tr>\n",
       "<tr><td>6</td><td>91.55295150995757</td><td>2.9725235567958834</td><td>14.0</td><td>1154.9977799979365</td></tr>\n",
       "<tr><td>7</td><td>99.68768173144424</td><td>2.6169679046829066</td><td>27.0</td><td>2566.43179459639</td></tr>\n",
       "<tr><td>8</td><td>116.75063364593193</td><td>2.883633961891127</td><td>54.0</td><td>5068.480748058068</td></tr>\n",
       "<tr><td>9</td><td>142.58154518089827</td><td>2.468383201313743</td><td>30.0</td><td>2739.2530929677955</td></tr>\n",
       "<tr><td>...</td><td>...</td><td>...</td><td>...</td><td>...</td></tr>\n",
       "<tr><td>873</td><td>4052.261784191414</td><td>4091.0941669269</td><td>14.0</td><td>723.9386998887512</td></tr>\n",
       "<tr><td>874</td><td>4093.2702923284223</td><td>4091.425248518884</td><td>12.0</td><td>843.3742253957471</td></tr>\n",
       "<tr><td>875</td><td>49.73596351574233</td><td>4091.1493090190775</td><td>14.0</td><td>833.1285802714173</td></tr>\n",
       "<tr><td>876</td><td>137.2937245513802</td><td>4093.1952958744714</td><td>12.0</td><td>1042.1958154206634</td></tr>\n",
       "<tr><td>877</td><td>174.9967832899972</td><td>4091.7767649467737</td><td>17.0</td><td>1306.2278082996036</td></tr>\n",
       "<tr><td>878</td><td>247.71917475997643</td><td>4092.969342659475</td><td>15.0</td><td>1150.9441395771469</td></tr>\n",
       "<tr><td>879</td><td>304.54470243547837</td><td>4093.1316787950113</td><td>10.0</td><td>640.7497044243999</td></tr>\n",
       "<tr><td>880</td><td>3973.4622910981875</td><td>4092.2729370275233</td><td>12.0</td><td>773.8251023733134</td></tr>\n",
       "<tr><td>881</td><td>4082.9012012097955</td><td>4093.1799170051563</td><td>15.0</td><td>879.3155634387025</td></tr>\n",
       "<tr><td>882</td><td>27.84271640736591</td><td>4093.2552914683083</td><td>10.0</td><td>875.1390253789065</td></tr>\n",
       "</table></div>"
      ],
      "text/plain": [
       "<QTable length=882>\n",
       "label     xcentroid          ycentroid        area     segment_flux   \n",
       "                                              pix2                    \n",
       "int32      float64            float64       float64      float64      \n",
       "----- ------------------ ------------------ ------- ------------------\n",
       "    1  4.533569025871889  3.444939474958292    28.0 2505.2411062188844\n",
       "    2 22.507132975854155 13.250087815892254   154.0 15148.910081151724\n",
       "    3 26.734313787956406  2.767497535389367    12.0  1600.700112157337\n",
       "    4  55.90401422039968  7.904389065335463   232.0  20029.33847174423\n",
       "    5  81.04186216504205  5.955181395464425    70.0   6538.17641989125\n",
       "    6  91.55295150995757 2.9725235567958834    14.0 1154.9977799979365\n",
       "    7  99.68768173144424 2.6169679046829066    27.0   2566.43179459639\n",
       "    8 116.75063364593193  2.883633961891127    54.0  5068.480748058068\n",
       "    9 142.58154518089827  2.468383201313743    30.0 2739.2530929677955\n",
       "  ...                ...                ...     ...                ...\n",
       "  873  4052.261784191414    4091.0941669269    14.0  723.9386998887512\n",
       "  874 4093.2702923284223  4091.425248518884    12.0  843.3742253957471\n",
       "  875  49.73596351574233 4091.1493090190775    14.0  833.1285802714173\n",
       "  876  137.2937245513802 4093.1952958744714    12.0 1042.1958154206634\n",
       "  877  174.9967832899972 4091.7767649467737    17.0 1306.2278082996036\n",
       "  878 247.71917475997643  4092.969342659475    15.0 1150.9441395771469\n",
       "  879 304.54470243547837 4093.1316787950113    10.0  640.7497044243999\n",
       "  880 3973.4622910981875 4092.2729370275233    12.0  773.8251023733134\n",
       "  881 4082.9012012097955 4093.1799170051563    15.0  879.3155634387025\n",
       "  882  27.84271640736591 4093.2552914683083    10.0  875.1390253789065"
      ]
     },
     "execution_count": 18,
     "metadata": {},
     "output_type": "execute_result"
    }
   ],
   "source": [
    "tabla_V = tbl_V['label', 'xcentroid', 'ycentroid', 'area', 'segment_flux'] # organizamos data importante\n",
    "tabla_V"
   ]
  },
  {
   "cell_type": "code",
   "execution_count": 19,
   "id": "e090e3da",
   "metadata": {},
   "outputs": [
    {
     "data": {
      "text/html": [
       "<div><i>QTable length=882</i>\n",
       "<table id=\"table1718561201040\" class=\"table-striped table-bordered table-condensed\">\n",
       "<thead><tr><th>label</th><th>xcentroid</th><th>ycentroid</th><th>area</th><th>segment_flux</th></tr></thead>\n",
       "<thead><tr><th></th><th></th><th></th><th>pix2</th><th></th></tr></thead>\n",
       "<thead><tr><th>int32</th><th>float64</th><th>float64</th><th>float64</th><th>float64</th></tr></thead>\n",
       "<tr><td>1</td><td>4.533569025871889</td><td>3.444939474958292</td><td>28.0</td><td>1002.0964424875538</td></tr>\n",
       "<tr><td>2</td><td>22.507132975854155</td><td>13.250087815892254</td><td>154.0</td><td>6059.564032460689</td></tr>\n",
       "<tr><td>3</td><td>26.734313787956406</td><td>2.767497535389367</td><td>12.0</td><td>640.2800448629348</td></tr>\n",
       "<tr><td>4</td><td>55.90401422039968</td><td>7.904389065335463</td><td>232.0</td><td>8011.7353886976925</td></tr>\n",
       "<tr><td>5</td><td>81.04186216504205</td><td>5.955181395464425</td><td>70.0</td><td>2615.2705679564997</td></tr>\n",
       "<tr><td>6</td><td>91.55295150995757</td><td>2.9725235567958834</td><td>14.0</td><td>461.9991119991746</td></tr>\n",
       "<tr><td>7</td><td>99.68768173144424</td><td>2.6169679046829066</td><td>27.0</td><td>1026.572717838556</td></tr>\n",
       "<tr><td>8</td><td>116.75063364593193</td><td>2.883633961891127</td><td>54.0</td><td>2027.392299223227</td></tr>\n",
       "<tr><td>9</td><td>142.58154518089827</td><td>2.468383201313743</td><td>30.0</td><td>1095.7012371871183</td></tr>\n",
       "<tr><td>...</td><td>...</td><td>...</td><td>...</td><td>...</td></tr>\n",
       "<tr><td>873</td><td>4052.261784191414</td><td>4091.0941669269</td><td>14.0</td><td>289.5754799555005</td></tr>\n",
       "<tr><td>874</td><td>4093.2702923284223</td><td>4091.425248518884</td><td>12.0</td><td>337.3496901582988</td></tr>\n",
       "<tr><td>875</td><td>49.73596351574233</td><td>4091.1493090190775</td><td>14.0</td><td>333.2514321085669</td></tr>\n",
       "<tr><td>876</td><td>137.2937245513802</td><td>4093.1952958744714</td><td>12.0</td><td>416.87832616826535</td></tr>\n",
       "<tr><td>877</td><td>174.9967832899972</td><td>4091.7767649467737</td><td>17.0</td><td>522.4911233198414</td></tr>\n",
       "<tr><td>878</td><td>247.71917475997643</td><td>4092.969342659475</td><td>15.0</td><td>460.37765583085877</td></tr>\n",
       "<tr><td>879</td><td>304.54470243547837</td><td>4093.1316787950113</td><td>10.0</td><td>256.29988176975996</td></tr>\n",
       "<tr><td>880</td><td>3973.4622910981875</td><td>4092.2729370275233</td><td>12.0</td><td>309.5300409493253</td></tr>\n",
       "<tr><td>881</td><td>4082.9012012097955</td><td>4093.1799170051563</td><td>15.0</td><td>351.726225375481</td></tr>\n",
       "<tr><td>882</td><td>27.84271640736591</td><td>4093.2552914683083</td><td>10.0</td><td>350.0556101515626</td></tr>\n",
       "</table></div>"
      ],
      "text/plain": [
       "<QTable length=882>\n",
       "label     xcentroid          ycentroid        area     segment_flux   \n",
       "                                              pix2                    \n",
       "int32      float64            float64       float64      float64      \n",
       "----- ------------------ ------------------ ------- ------------------\n",
       "    1  4.533569025871889  3.444939474958292    28.0 1002.0964424875538\n",
       "    2 22.507132975854155 13.250087815892254   154.0  6059.564032460689\n",
       "    3 26.734313787956406  2.767497535389367    12.0  640.2800448629348\n",
       "    4  55.90401422039968  7.904389065335463   232.0 8011.7353886976925\n",
       "    5  81.04186216504205  5.955181395464425    70.0 2615.2705679564997\n",
       "    6  91.55295150995757 2.9725235567958834    14.0  461.9991119991746\n",
       "    7  99.68768173144424 2.6169679046829066    27.0  1026.572717838556\n",
       "    8 116.75063364593193  2.883633961891127    54.0  2027.392299223227\n",
       "    9 142.58154518089827  2.468383201313743    30.0 1095.7012371871183\n",
       "  ...                ...                ...     ...                ...\n",
       "  873  4052.261784191414    4091.0941669269    14.0  289.5754799555005\n",
       "  874 4093.2702923284223  4091.425248518884    12.0  337.3496901582988\n",
       "  875  49.73596351574233 4091.1493090190775    14.0  333.2514321085669\n",
       "  876  137.2937245513802 4093.1952958744714    12.0 416.87832616826535\n",
       "  877  174.9967832899972 4091.7767649467737    17.0  522.4911233198414\n",
       "  878 247.71917475997643  4092.969342659475    15.0 460.37765583085877\n",
       "  879 304.54470243547837 4093.1316787950113    10.0 256.29988176975996\n",
       "  880 3973.4622910981875 4092.2729370275233    12.0  309.5300409493253\n",
       "  881 4082.9012012097955 4093.1799170051563    15.0   351.726225375481\n",
       "  882  27.84271640736591 4093.2552914683083    10.0  350.0556101515626"
      ]
     },
     "execution_count": 19,
     "metadata": {},
     "output_type": "execute_result"
    }
   ],
   "source": [
    "tabla_V['segment_flux'] = tabla_V['segment_flux']/header_V['EXPTIME'] #Dividimos el \"flujo\"(energy) por el tiempo de exposición \n",
    "tabla_V    "
   ]
  },
  {
   "cell_type": "code",
   "execution_count": 20,
   "id": "9f008e6a",
   "metadata": {},
   "outputs": [
    {
     "data": {
      "text/plain": [
       "42.607877451282214"
      ]
     },
     "execution_count": 20,
     "metadata": {},
     "output_type": "execute_result"
    }
   ],
   "source": [
    "# Nuestra estrella a estudiar, que es la fuente con mayor area\n",
    "estrellaV = np.argmax(tabla_V['area']) \n",
    "\n",
    "estrella_flujoV = tabla_V['segment_flux'][estrellaV] # buscamos el flujo de \"estrella\"(el flujo de aquella fuente con mayor área)\n",
    "\n",
    "magnitud_aparente_V = -2.5*np.log(estrella_flujoV) # Calculamos la magnitud aparente\n",
    "\n",
    "zeropoint_V = 6.47 - magnitud_aparente_V # Obtenemos el zeropoint para calibrar\n",
    "zeropoint_V"
   ]
  },
  {
   "cell_type": "code",
   "execution_count": 21,
   "id": "8744bf01",
   "metadata": {},
   "outputs": [
    {
     "data": {
      "text/html": [
       "<div><i>QTable length=882</i>\n",
       "<table id=\"table1718561201040\" class=\"table-striped table-bordered table-condensed\">\n",
       "<thead><tr><th>label</th><th>xcentroid</th><th>ycentroid</th><th>area</th><th>segment_flux</th><th>magnitude</th></tr></thead>\n",
       "<thead><tr><th></th><th></th><th></th><th>pix2</th><th></th><th></th></tr></thead>\n",
       "<thead><tr><th>int32</th><th>float64</th><th>float64</th><th>float64</th><th>float64</th><th>float64</th></tr></thead>\n",
       "<tr><td>1</td><td>4.533569025871889</td><td>3.444939474958292</td><td>28.0</td><td>1002.0964424875538</td><td>25.333253633780572</td></tr>\n",
       "<tr><td>2</td><td>22.507132975854155</td><td>13.250087815892254</td><td>154.0</td><td>6059.564032460689</td><td>20.834394614689085</td></tr>\n",
       "<tr><td>3</td><td>26.734313787956406</td><td>2.767497535389367</td><td>12.0</td><td>640.2800448629348</td><td>26.453113324416776</td></tr>\n",
       "<tr><td>4</td><td>55.90401422039968</td><td>7.904389065335463</td><td>232.0</td><td>8011.7353886976925</td><td>20.13622077786264</td></tr>\n",
       "<tr><td>5</td><td>81.04186216504205</td><td>5.955181395464425</td><td>70.0</td><td>2615.2705679564997</td><td>22.935070354241205</td></tr>\n",
       "<tr><td>6</td><td>91.55295150995757</td><td>2.9725235567958834</td><td>14.0</td><td>461.9991119991746</td><td>27.268970028781755</td></tr>\n",
       "<tr><td>7</td><td>99.68768173144424</td><td>2.6169679046829066</td><td>27.0</td><td>1026.572717838556</td><td>25.27292476499838</td></tr>\n",
       "<tr><td>8</td><td>116.75063364593193</td><td>2.883633961891127</td><td>54.0</td><td>2027.392299223227</td><td>23.571613289806944</td></tr>\n",
       "<tr><td>9</td><td>142.58154518089827</td><td>2.468383201313743</td><td>30.0</td><td>1095.7012371871183</td><td>25.110002859931857</td></tr>\n",
       "<tr><td>...</td><td>...</td><td>...</td><td>...</td><td>...</td><td>...</td></tr>\n",
       "<tr><td>873</td><td>4052.261784191414</td><td>4091.0941669269</td><td>14.0</td><td>289.5754799555005</td><td>28.43683748061966</td></tr>\n",
       "<tr><td>874</td><td>4093.2702923284223</td><td>4091.425248518884</td><td>12.0</td><td>337.3496901582988</td><td>28.055077329743902</td></tr>\n",
       "<tr><td>875</td><td>49.73596351574233</td><td>4091.1493090190775</td><td>14.0</td><td>333.2514321085669</td><td>28.085634310158127</td></tr>\n",
       "<tr><td>876</td><td>137.2937245513802</td><td>4093.1952958744714</td><td>12.0</td><td>416.87832616826535</td><td>27.525891462650996</td></tr>\n",
       "<tr><td>877</td><td>174.9967832899972</td><td>4091.7767649467737</td><td>17.0</td><td>522.4911233198414</td><td>26.96135746419945</td></tr>\n",
       "<tr><td>878</td><td>247.71917475997643</td><td>4092.969342659475</td><td>15.0</td><td>460.37765583085877</td><td>27.277759592304527</td></tr>\n",
       "<tr><td>879</td><td>304.54470243547837</td><td>4093.1316787950113</td><td>10.0</td><td>256.29988176975996</td><td>28.74200702109815</td></tr>\n",
       "<tr><td>880</td><td>3973.4622910981875</td><td>4092.2729370275233</td><td>12.0</td><td>309.5300409493253</td><td>28.27023957564353</td></tr>\n",
       "<tr><td>881</td><td>4082.9012012097955</td><td>4093.1799170051563</td><td>15.0</td><td>351.726225375481</td><td>27.950744690883838</td></tr>\n",
       "<tr><td>882</td><td>27.84271640736591</td><td>4093.2552914683083</td><td>10.0</td><td>350.0556101515626</td><td>27.96264738125793</td></tr>\n",
       "</table></div>"
      ],
      "text/plain": [
       "<QTable length=882>\n",
       "label     xcentroid      ...    segment_flux        magnitude     \n",
       "                         ...                                      \n",
       "int32      float64       ...      float64            float64      \n",
       "----- ------------------ ... ------------------ ------------------\n",
       "    1  4.533569025871889 ... 1002.0964424875538 25.333253633780572\n",
       "    2 22.507132975854155 ...  6059.564032460689 20.834394614689085\n",
       "    3 26.734313787956406 ...  640.2800448629348 26.453113324416776\n",
       "    4  55.90401422039968 ... 8011.7353886976925  20.13622077786264\n",
       "    5  81.04186216504205 ... 2615.2705679564997 22.935070354241205\n",
       "    6  91.55295150995757 ...  461.9991119991746 27.268970028781755\n",
       "    7  99.68768173144424 ...  1026.572717838556  25.27292476499838\n",
       "    8 116.75063364593193 ...  2027.392299223227 23.571613289806944\n",
       "    9 142.58154518089827 ... 1095.7012371871183 25.110002859931857\n",
       "  ...                ... ...                ...                ...\n",
       "  873  4052.261784191414 ...  289.5754799555005  28.43683748061966\n",
       "  874 4093.2702923284223 ...  337.3496901582988 28.055077329743902\n",
       "  875  49.73596351574233 ...  333.2514321085669 28.085634310158127\n",
       "  876  137.2937245513802 ... 416.87832616826535 27.525891462650996\n",
       "  877  174.9967832899972 ...  522.4911233198414  26.96135746419945\n",
       "  878 247.71917475997643 ... 460.37765583085877 27.277759592304527\n",
       "  879 304.54470243547837 ... 256.29988176975996  28.74200702109815\n",
       "  880 3973.4622910981875 ...  309.5300409493253  28.27023957564353\n",
       "  881 4082.9012012097955 ...   351.726225375481 27.950744690883838\n",
       "  882  27.84271640736591 ...  350.0556101515626  27.96264738125793"
      ]
     },
     "execution_count": 21,
     "metadata": {},
     "output_type": "execute_result"
    }
   ],
   "source": [
    "# utilizamos el zeropoint para obtener la magnitud absoluta de todas las fuentes\n",
    "\n",
    "flujo_fuentes_V = tabla_V['segment_flux'] # columna \"segment_flux\"\n",
    "\n",
    "tabla_V['magnitude'] = zeropoint_V - 2.5*np.log(flujo_fuentes_V)\n",
    "tabla_V"
   ]
  },
  {
   "cell_type": "code",
   "execution_count": 22,
   "id": "00379e6f",
   "metadata": {},
   "outputs": [
    {
     "data": {
      "text/plain": [
       "6.469999999999999"
      ]
     },
     "execution_count": 22,
     "metadata": {},
     "output_type": "execute_result"
    }
   ],
   "source": [
    "# comprobamos la magnitud absoluta de nuestra estrella para el filtro B\n",
    "\n",
    "magnitud_ab_V = tabla_V['magnitude'][estrellaV] \n",
    "magnitud_ab_V"
   ]
  },
  {
   "cell_type": "markdown",
   "id": "8fc972e9",
   "metadata": {},
   "source": [
    "**Por lo tanto, al obtener el zero point de la segunda estrella (mismo proceso), los promediamos para ambos filtros**\n",
    "\n",
    "\n",
    "**Filltro V promedio = (42.6 + 41.4)/2 = 42** \n",
    "\n",
    "\n",
    "**Filtro B promedio = (35.1 + 33.7)/2 = 34.4**\n"
   ]
  },
  {
   "cell_type": "code",
   "execution_count": 4,
   "id": "19b38af6",
   "metadata": {},
   "outputs": [],
   "source": [
    "zeropointB_total = 34.4\n",
    "zeropointV_total = 42"
   ]
  },
  {
   "cell_type": "markdown",
   "id": "c9056be2",
   "metadata": {},
   "source": [
    "**Catalogo NGC2070 B**"
   ]
  },
  {
   "cell_type": "code",
   "execution_count": 5,
   "id": "ec219916",
   "metadata": {
    "scrolled": false
   },
   "outputs": [
    {
     "data": {
      "text/plain": [
       "SIMPLE  =                    T / conforms to FITS standard                      \n",
       "BITPIX  =                  -64 / array data type                                \n",
       "NAXIS   =                    2 / number of array dimensions                     \n",
       "NAXIS1  =                 4096                                                  \n",
       "NAXIS2  =                 4096                                                  \n",
       "COMMENT   FITS (Flexible Image Transport System) format is defined in 'Astronomy\n",
       "COMMENT   and Astrophysics', volume 376, page 359; bibcode: 2001A&A...376..359H \n",
       "OBSERVER= 'Riffo, Cornejo,Liberona' / SBIGFITSEXT The name of the observer      \n",
       "ORIGIN  = 'MAS500  '           / Description of location                        \n",
       "TELESCOP= 'MAS500  '           / SBIGFITSEXT The model Telescope                \n",
       "FOCALLEN=                6500. / SBIGFITSEXT Telescope focal length in mm       \n",
       "APTDIA  =                 500. / SBIGFITSEXT Aperture diameter in mm            \n",
       "SBUUID  = '{0a80ae66-d416-4b0b-91cf-ad09a98b1d14}' / Photo UUID                 \n",
       "EXPTIME =                 400. / SBIGFITSEXT Total exposure time in seconds     \n",
       "SWCREATE= 'TheSkyX Version 10.5.0 Build 12545' / SBIGFITSEXT Name & version of s\n",
       "COLORCCD=                    0 / Non zero if image is from a Bayer color ccd    \n",
       "DISPINCR=                    1 / Non zero to automatically display the image in \n",
       "PICTTYPE=                    1 / Image type as index 0= Unknown 1=Light, 2=Bias,\n",
       "IMAGETYP= 'Light Frame'        / SBIGFITSEXT Light, Dark, Bias or Flat          \n",
       "XORGSUBF=                    0 / SBIGFITSEXT Subframe x upper-left pixel in bin \n",
       "YORGSUBF=                    0 / SBIGFITSEXT Subframe y upper-left pixel in bin \n",
       "XBINNING=                    1 / SBIGFITSEXT Binning factor in width            \n",
       "YBINNING=                    1 / SBIGFITSEXT Binning factor in height           \n",
       "CCD-TEMP=                -24.9 / SBIGFITSEXT Temperature of the CCD             \n",
       "SET-TEMP=                 -25. / SBIGFITSEXT The cooler setpoint in degrees C   \n",
       "SITELAT = '-33 25 34.61'       / SBIGFITSEXT Latitude of the imaging location   \n",
       "SITELONG= '+70 33 59.62'       / SBIGFITSEXT Longitude of the imaging location  \n",
       "LST     = '+00 42 13.31'       / Local sidereal time                            \n",
       "OBSGEO-B=            -33.42628 / Latitude of the observation in degrees, North +\n",
       "OBSGEO-L=            -70.56656 / Longitude of the observation in degrees, East +\n",
       "OBSGEO-H=                1500. / Altitude of the observation in meters          \n",
       "BTP     =                    1 / Beyond the pole                                \n",
       "CENTAZ  =     154.837366321592 / SBIGFITSEXT Azimuth of the center of the image \n",
       "CENTALT =     36.5367902090008 / SBIGFITSEXT Altitude of the center of the image\n",
       "AIRMASS =     1.67961474035272 / Airmass of the telescope                       \n",
       "TELEHA  = '-04 57 03.21'       / Telescope hour angle                           \n",
       "MOUNT   = 'ASCOM Mount'        / The telescope mount                            \n",
       "OBJCTRA = '05 39 25.344'       / SBIGFITSEXT The right ascension of the center o\n",
       "OBJCTDEC= '-69 13 49.17'       / SBIGFITSEXT The declination of the center of th\n",
       "OBJECT  = 'NGC 2070'           / SBIGFITSEXT The name of the object imaged      \n",
       "INSTRUME= 'Gx/Cx USB'          / SBIGFITSEXT The model camera used.             \n",
       "XPIXSZ  =                   9. / SBIGFITSEXT Pixel width in microns after binnin\n",
       "YPIXSZ  =                   9. / SBIGFITSEXT Pixel height in microns after binni\n",
       "FOCPOS  =                2085. / The focuser position.                          \n",
       "FOCTEMP =     8.50001621246338 / The focuser temperature in degrees C.          \n",
       "FOCTMPSC= 'Focuser (Default)'  / The focuser temperature source.                \n",
       "FILTER  = 'B       '           / SBIGFITSEXT The optical filter used to take ima\n",
       "DATE-OBS= '2023-10-06T04:26:09.845' / SBIGFITSEXT UTC of start exp. in ISO 8601 \n",
       "GAIN    =    0.850000023841858 / Camera gain in e-/ADU                          "
      ]
     },
     "execution_count": 5,
     "metadata": {},
     "output_type": "execute_result"
    }
   ],
   "source": [
    "data_ngcb = NGC2070_B.data\n",
    "header_ngcb = NGC2070_B.header\n",
    "header_ngcb"
   ]
  },
  {
   "cell_type": "code",
   "execution_count": 6,
   "id": "3105d0ce",
   "metadata": {},
   "outputs": [
    {
     "data": {
      "text/plain": [
       "<photutils.segmentation.core.SegmentationImage>\n",
       "shape: (4096, 4096)\n",
       "nlabels: 1597\n",
       "labels: [   1    2    3    4    5 ... 1593 1594 1595 1596 1597]"
      ]
     },
     "execution_count": 6,
     "metadata": {},
     "output_type": "execute_result"
    }
   ],
   "source": [
    "#Obtenemos el umbral que utilizaremos para detectar las fuentes\n",
    "\n",
    "threshold_ngcb = detect_threshold(data_ngcb, nsigma = 3) # sigma la desviacion estandar por pixel para considerarlo como fuente\n",
    "\n",
    "#Utilizamos el umbral y el array de la estrella para detectar fuentes\n",
    "source_ngcb = detect_sources(data_ngcb, threshold_ngcb, npixels = 15) # npixels: tamaño  min de pixeles que se considera fuente\n",
    "\n",
    "#número de fuentes detectadas \n",
    "source_ngcb"
   ]
  },
  {
   "cell_type": "code",
   "execution_count": 7,
   "id": "c45598b0",
   "metadata": {},
   "outputs": [
    {
     "data": {
      "image/png": "[encoded data removed]",
      "text/plain": [
       "<Figure size 600x600 with 1 Axes>"
      ]
     },
     "metadata": {},
     "output_type": "display_data"
    }
   ],
   "source": [
    "#asocia un color a cada fuente detectada\n",
    "cmap_source = source_ngcb.make_cmap(seed=9283) #seed: la semilla de la paleta de colores\n",
    "#Mostramos las fuentes obtenidas\n",
    "fig, ax = plt.subplots(1, 1, figsize = (6, 6))\n",
    "ax.imshow(source_ngcb, origin = 'lower', cmap = cmap_source, interpolation = 'nearest')\n",
    "plt.show()"
   ]
  },
  {
   "cell_type": "code",
   "execution_count": 8,
   "id": "9351305c",
   "metadata": {
    "scrolled": false
   },
   "outputs": [
    {
     "data": {
      "text/html": [
       "<div><i>QTable length=1597</i>\n",
       "<table id=\"table3127297240336\" class=\"table-striped table-bordered table-condensed\">\n",
       "<thead><tr><th>label</th><th>xcentroid</th><th>ycentroid</th><th>area</th><th>segment_flux</th></tr></thead>\n",
       "<thead><tr><th></th><th></th><th></th><th>pix2</th><th></th></tr></thead>\n",
       "<thead><tr><th>int32</th><th>float64</th><th>float64</th><th>float64</th><th>float64</th></tr></thead>\n",
       "<tr><td>1</td><td>2588.103550169616</td><td>3.4515078133930643</td><td>36.0</td><td>29.519933946039956</td></tr>\n",
       "<tr><td>2</td><td>2675.954354651062</td><td>2.940390251152407</td><td>84.0</td><td>73.94538177791355</td></tr>\n",
       "<tr><td>3</td><td>3423.668897632228</td><td>5.1153665974163856</td><td>422.0</td><td>969.2597894560656</td></tr>\n",
       "<tr><td>4</td><td>3625.636166464378</td><td>5.841086280211863</td><td>29.0</td><td>23.029250391043515</td></tr>\n",
       "<tr><td>5</td><td>436.95046189687855</td><td>8.60795610540508</td><td>69.0</td><td>55.45327510382217</td></tr>\n",
       "<tr><td>6</td><td>1475.9771529228296</td><td>9.410289669622706</td><td>146.0</td><td>123.33322366981764</td></tr>\n",
       "<tr><td>7</td><td>924.7326176312736</td><td>14.15402944764285</td><td>140.0</td><td>122.85974269829556</td></tr>\n",
       "<tr><td>8</td><td>2236.5835613879344</td><td>14.153470496357468</td><td>179.0</td><td>163.9065637741927</td></tr>\n",
       "<tr><td>9</td><td>2087.24807400224</td><td>15.87455866657438</td><td>121.0</td><td>103.03326217835854</td></tr>\n",
       "<tr><td>...</td><td>...</td><td>...</td><td>...</td><td>...</td></tr>\n",
       "<tr><td>1588</td><td>631.5399858334351</td><td>4047.697530833496</td><td>120.0</td><td>111.13194563100888</td></tr>\n",
       "<tr><td>1589</td><td>748.8960311382241</td><td>4057.0878068869365</td><td>412.0</td><td>613.6121119478686</td></tr>\n",
       "<tr><td>1590</td><td>708.9157841374164</td><td>4064.7737773824774</td><td>206.0</td><td>209.66090805568092</td></tr>\n",
       "<tr><td>1591</td><td>1141.896997225062</td><td>4070.9248302419733</td><td>267.0</td><td>300.89670969259043</td></tr>\n",
       "<tr><td>1592</td><td>1083.790348837074</td><td>4069.9556742336213</td><td>23.0</td><td>17.855996355031042</td></tr>\n",
       "<tr><td>1593</td><td>902.2149500391536</td><td>4078.5646061133148</td><td>131.0</td><td>116.6999245718028</td></tr>\n",
       "<tr><td>1594</td><td>1735.8263755829396</td><td>4082.475052096936</td><td>76.0</td><td>63.33583571103035</td></tr>\n",
       "<tr><td>1595</td><td>3367.0689494025523</td><td>4080.992971624207</td><td>21.0</td><td>17.123779635167708</td></tr>\n",
       "<tr><td>1596</td><td>1612.0904884139802</td><td>4091.450894308927</td><td>95.0</td><td>84.33566656209959</td></tr>\n",
       "<tr><td>1597</td><td>2724.2654871149016</td><td>4092.5756175698175</td><td>66.0</td><td>58.612272649138085</td></tr>\n",
       "</table></div>"
      ],
      "text/plain": [
       "<QTable length=1597>\n",
       "label     xcentroid          ycentroid        area     segment_flux   \n",
       "                                              pix2                    \n",
       "int32      float64            float64       float64      float64      \n",
       "----- ------------------ ------------------ ------- ------------------\n",
       "    1  2588.103550169616 3.4515078133930643    36.0 29.519933946039956\n",
       "    2  2675.954354651062  2.940390251152407    84.0  73.94538177791355\n",
       "    3  3423.668897632228 5.1153665974163856   422.0  969.2597894560656\n",
       "    4  3625.636166464378  5.841086280211863    29.0 23.029250391043515\n",
       "    5 436.95046189687855   8.60795610540508    69.0  55.45327510382217\n",
       "    6 1475.9771529228296  9.410289669622706   146.0 123.33322366981764\n",
       "    7  924.7326176312736  14.15402944764285   140.0 122.85974269829556\n",
       "    8 2236.5835613879344 14.153470496357468   179.0  163.9065637741927\n",
       "    9   2087.24807400224  15.87455866657438   121.0 103.03326217835854\n",
       "  ...                ...                ...     ...                ...\n",
       " 1588  631.5399858334351  4047.697530833496   120.0 111.13194563100888\n",
       " 1589  748.8960311382241 4057.0878068869365   412.0  613.6121119478686\n",
       " 1590  708.9157841374164 4064.7737773824774   206.0 209.66090805568092\n",
       " 1591  1141.896997225062 4070.9248302419733   267.0 300.89670969259043\n",
       " 1592  1083.790348837074 4069.9556742336213    23.0 17.855996355031042\n",
       " 1593  902.2149500391536 4078.5646061133148   131.0  116.6999245718028\n",
       " 1594 1735.8263755829396  4082.475052096936    76.0  63.33583571103035\n",
       " 1595 3367.0689494025523  4080.992971624207    21.0 17.123779635167708\n",
       " 1596 1612.0904884139802  4091.450894308927    95.0  84.33566656209959\n",
       " 1597 2724.2654871149016 4092.5756175698175    66.0 58.612272649138085"
      ]
     },
     "execution_count": 8,
     "metadata": {},
     "output_type": "execute_result"
    }
   ],
   "source": [
    "catalogo_ngcb = SourceCatalog(data_ngcb, source_ngcb)\n",
    "tabla_ngcb = catalogo_ngcb.to_table();\n",
    "tabla_ngcb = tabla_ngcb['label', 'xcentroid', 'ycentroid', 'area', 'segment_flux'] # organizamos data importante\n",
    "tabla_ngcb['segment_flux'] = tabla_ngcb['segment_flux']/header_ngcb['EXPTIME'] #Dividimos el \"flujo\"(energy) por el tiempo de exposición \n",
    "tabla_ngcb  "
   ]
  },
  {
   "cell_type": "code",
   "execution_count": 9,
   "id": "8ba684d9",
   "metadata": {
    "scrolled": true
   },
   "outputs": [
    {
     "data": {
      "text/plain": [
       "(327200.5440035483, 2.6541786342203046)"
      ]
     },
     "execution_count": 9,
     "metadata": {},
     "output_type": "execute_result"
    }
   ],
   "source": [
    "# Nuestra estrella a estudiar, que es la fuente con mayor area\n",
    "ngc2070b = np.argmax(tabla_ngcb['area']) \n",
    "\n",
    "flujo_ngc2070b = tabla_ngcb['segment_flux'][ngc2070b] # buscamos el flujo de \"estrella\" (el flujo de aquella fuente con mayor area)\n",
    "\n",
    "#magnitud absoluta 2070b, con zeropoint obtenido de la estrella\n",
    "\n",
    "mag_abs_ngcb = zeropointB_total - 2.5*np.log(flujo_ngc2070b)\n",
    "\n",
    "flujo_ngc2070b, mag_abs_ngcb"
   ]
  },
  {
   "cell_type": "code",
   "execution_count": 10,
   "id": "6ae99428",
   "metadata": {
    "scrolled": false
   },
   "outputs": [
    {
     "data": {
      "text/html": [
       "<div><i>QTable length=1597</i>\n",
       "<table id=\"table3127297240336\" class=\"table-striped table-bordered table-condensed\">\n",
       "<thead><tr><th>label</th><th>xcentroid</th><th>ycentroid</th><th>area</th><th>segment_flux</th><th>magnitude</th></tr></thead>\n",
       "<thead><tr><th></th><th></th><th></th><th>pix2</th><th></th><th></th></tr></thead>\n",
       "<thead><tr><th>int32</th><th>float64</th><th>float64</th><th>float64</th><th>float64</th><th>float64</th></tr></thead>\n",
       "<tr><td>1</td><td>2588.103550169616</td><td>3.4515078133930643</td><td>36.0</td><td>29.519933946039956</td><td>25.93733559467626</td></tr>\n",
       "<tr><td>2</td><td>2675.954354651062</td><td>2.940390251152407</td><td>84.0</td><td>73.94538177791355</td><td>23.641683158490594</td></tr>\n",
       "<tr><td>3</td><td>3423.668897632228</td><td>5.1153665974163856</td><td>422.0</td><td>969.2597894560656</td><td>17.208668308669786</td></tr>\n",
       "<tr><td>4</td><td>3625.636166464378</td><td>5.841086280211863</td><td>29.0</td><td>23.029250391043515</td><td>26.558087089838438</td></tr>\n",
       "<tr><td>5</td><td>436.95046189687855</td><td>8.60795610540508</td><td>69.0</td><td>55.45327510382217</td><td>24.361148059643167</td></tr>\n",
       "<tr><td>6</td><td>1475.9771529228296</td><td>9.410289669622706</td><td>146.0</td><td>123.33322366981764</td><td>22.36277543048469</td></tr>\n",
       "<tr><td>7</td><td>924.7326176312736</td><td>14.15402944764285</td><td>140.0</td><td>122.85974269829556</td><td>22.372391496334764</td></tr>\n",
       "<tr><td>8</td><td>2236.5835613879344</td><td>14.153470496357468</td><td>179.0</td><td>163.9065637741927</td><td>21.65175866904889</td></tr>\n",
       "<tr><td>9</td><td>2087.24807400224</td><td>15.87455866657438</td><td>121.0</td><td>103.03326217835854</td><td>22.812370325329447</td></tr>\n",
       "<tr><td>...</td><td>...</td><td>...</td><td>...</td><td>...</td><td>...</td></tr>\n",
       "<tr><td>1588</td><td>631.5399858334351</td><td>4047.697530833496</td><td>120.0</td><td>111.13194563100888</td><td>22.62320451313233</td></tr>\n",
       "<tr><td>1589</td><td>748.8960311382241</td><td>4057.0878068869365</td><td>412.0</td><td>613.6121119478686</td><td>18.351592527457303</td></tr>\n",
       "<tr><td>1590</td><td>708.9157841374164</td><td>4064.7737773824774</td><td>206.0</td><td>209.66090805568092</td><td>21.036271244745112</td></tr>\n",
       "<tr><td>1591</td><td>1141.896997225062</td><td>4070.9248302419733</td><td>267.0</td><td>300.89670969259043</td><td>20.133082378276228</td></tr>\n",
       "<tr><td>1592</td><td>1083.790348837074</td><td>4069.9556742336213</td><td>23.0</td><td>17.855996355031042</td><td>27.194151544831115</td></tr>\n",
       "<tr><td>1593</td><td>902.2149500391536</td><td>4078.5646061133148</td><td>131.0</td><td>116.6999245718028</td><td>22.500985267626085</td></tr>\n",
       "<tr><td>1594</td><td>1735.8263755829396</td><td>4082.475052096936</td><td>76.0</td><td>63.33583571103035</td><td>24.02887176515344</td></tr>\n",
       "<tr><td>1595</td><td>3367.0689494025523</td><td>4080.992971624207</td><td>21.0</td><td>17.123779635167708</td><td>27.29882970142742</td></tr>\n",
       "<tr><td>1596</td><td>1612.0904884139802</td><td>4091.450894308927</td><td>95.0</td><td>84.33566656209959</td><td>23.312987833947606</td></tr>\n",
       "<tr><td>1597</td><td>2724.2654871149016</td><td>4092.5756175698175</td><td>66.0</td><td>58.612272649138085</td><td>24.222639736179882</td></tr>\n",
       "</table></div>"
      ],
      "text/plain": [
       "<QTable length=1597>\n",
       "label     xcentroid      ...    segment_flux        magnitude     \n",
       "                         ...                                      \n",
       "int32      float64       ...      float64            float64      \n",
       "----- ------------------ ... ------------------ ------------------\n",
       "    1  2588.103550169616 ... 29.519933946039956  25.93733559467626\n",
       "    2  2675.954354651062 ...  73.94538177791355 23.641683158490594\n",
       "    3  3423.668897632228 ...  969.2597894560656 17.208668308669786\n",
       "    4  3625.636166464378 ... 23.029250391043515 26.558087089838438\n",
       "    5 436.95046189687855 ...  55.45327510382217 24.361148059643167\n",
       "    6 1475.9771529228296 ... 123.33322366981764  22.36277543048469\n",
       "    7  924.7326176312736 ... 122.85974269829556 22.372391496334764\n",
       "    8 2236.5835613879344 ...  163.9065637741927  21.65175866904889\n",
       "    9   2087.24807400224 ... 103.03326217835854 22.812370325329447\n",
       "  ...                ... ...                ...                ...\n",
       " 1588  631.5399858334351 ... 111.13194563100888  22.62320451313233\n",
       " 1589  748.8960311382241 ...  613.6121119478686 18.351592527457303\n",
       " 1590  708.9157841374164 ... 209.66090805568092 21.036271244745112\n",
       " 1591  1141.896997225062 ... 300.89670969259043 20.133082378276228\n",
       " 1592  1083.790348837074 ... 17.855996355031042 27.194151544831115\n",
       " 1593  902.2149500391536 ...  116.6999245718028 22.500985267626085\n",
       " 1594 1735.8263755829396 ...  63.33583571103035  24.02887176515344\n",
       " 1595 3367.0689494025523 ... 17.123779635167708  27.29882970142742\n",
       " 1596 1612.0904884139802 ...  84.33566656209959 23.312987833947606\n",
       " 1597 2724.2654871149016 ... 58.612272649138085 24.222639736179882"
      ]
     },
     "execution_count": 10,
     "metadata": {},
     "output_type": "execute_result"
    }
   ],
   "source": [
    "flujo_fuentes_ngcb = tabla_ngcb['segment_flux'] # obtenemos columna segment flux\n",
    "\n",
    "tabla_ngcb['magnitude'] = zeropointB_total - 2.5*np.log(flujo_fuentes_ngcb) # calibramos cada fuente\n",
    "tabla_ngcb"
   ]
  },
  {
   "cell_type": "code",
   "execution_count": 11,
   "id": "7d7b069a",
   "metadata": {
    "scrolled": true
   },
   "outputs": [
    {
     "data": {
      "text/plain": [
       "2.6541786342203046"
      ]
     },
     "execution_count": 11,
     "metadata": {},
     "output_type": "execute_result"
    }
   ],
   "source": [
    "# comprobamos la magnitud absoluta de nuestra estrella para el filtro B\n",
    "\n",
    "magnitud_ab_ngc2070b = tabla_ngcb['magnitude'][ngc2070b]\n",
    "magnitud_ab_ngc2070b "
   ]
  },
  {
   "cell_type": "code",
   "execution_count": null,
   "id": "cc31876a",
   "metadata": {
    "scrolled": false
   },
   "outputs": [],
   "source": []
  },
  {
   "cell_type": "markdown",
   "id": "c27284e7",
   "metadata": {},
   "source": [
    "**CALIBRACION NGC2070 V**"
   ]
  },
  {
   "cell_type": "code",
   "execution_count": 12,
   "id": "070bf5a4",
   "metadata": {},
   "outputs": [
    {
     "data": {
      "image/png": "[encoded data removed]",
      "text/plain": [
       "<Figure size 600x600 with 1 Axes>"
      ]
     },
     "metadata": {},
     "output_type": "display_data"
    }
   ],
   "source": [
    "data_ngcv = NGC2070_V.data\n",
    "header_ngcv = NGC2070_V.header\n",
    "\n",
    "#Obtenemos el umbral que utilizaremos para detectar las fuentes\n",
    "\n",
    "threshold_ngcv = detect_threshold(data_ngcv, nsigma = 3) # sigma la desviacion estandar por pixel para considerarlo como fuente\n",
    "\n",
    "#Utilizamos el umbral y el array de la estrella para detectar fuentes\n",
    "source_ngcv = detect_sources(data_ngcv, threshold_ngcv, npixels = 15) #npixels: tamaño  min de pixeles que se considera fuente\n",
    "\n",
    "#número de fuentes detectadas \n",
    "source_ngcv\n",
    "\n",
    "#asocia un color a cada fuente detectada\n",
    "cmap_source = source_ngcv.make_cmap(seed = 9283) #seed: la semilla de la paleta de colores\n",
    "\n",
    "#Mostramos las fuentes obtenidas\n",
    "fig, ax = plt.subplots(1, 1, figsize = (6, 6))\n",
    "ax.imshow(source_ngcv, origin = 'lower', cmap = cmap_source, interpolation = 'nearest')\n",
    "plt.show()"
   ]
  },
  {
   "cell_type": "code",
   "execution_count": 13,
   "id": "e38b2d70",
   "metadata": {},
   "outputs": [
    {
     "data": {
      "text/plain": [
       "SIMPLE  =                    T / conforms to FITS standard                      \n",
       "BITPIX  =                  -64 / array data type                                \n",
       "NAXIS   =                    2 / number of array dimensions                     \n",
       "NAXIS1  =                 4096                                                  \n",
       "NAXIS2  =                 4096                                                  \n",
       "COMMENT   FITS (Flexible Image Transport System) format is defined in 'Astronomy\n",
       "COMMENT   and Astrophysics', volume 376, page 359; bibcode: 2001A&A...376..359H \n",
       "OBSERVER= 'Riffo, Cornejo,Liberona' / SBIGFITSEXT The name of the observer      \n",
       "ORIGIN  = 'MAS500  '           / Description of location                        \n",
       "TELESCOP= 'MAS500  '           / SBIGFITSEXT The model Telescope                \n",
       "FOCALLEN=                6500. / SBIGFITSEXT Telescope focal length in mm       \n",
       "APTDIA  =                 500. / SBIGFITSEXT Aperture diameter in mm            \n",
       "SBUUID  = '{8afdf533-5ad9-44e8-8a3b-c4bbd1c44e81}' / Photo UUID                 \n",
       "EXPTIME =                 150. / SBIGFITSEXT Total exposure time in seconds     \n",
       "SWCREATE= 'TheSkyX Version 10.5.0 Build 12545' / SBIGFITSEXT Name & version of s\n",
       "COLORCCD=                    0 / Non zero if image is from a Bayer color ccd    \n",
       "DISPINCR=                    1 / Non zero to automatically display the image in \n",
       "PICTTYPE=                    1 / Image type as index 0= Unknown 1=Light, 2=Bias,\n",
       "IMAGETYP= 'Light Frame'        / SBIGFITSEXT Light, Dark, Bias or Flat          \n",
       "XORGSUBF=                    0 / SBIGFITSEXT Subframe x upper-left pixel in bin \n",
       "YORGSUBF=                    0 / SBIGFITSEXT Subframe y upper-left pixel in bin \n",
       "XBINNING=                    1 / SBIGFITSEXT Binning factor in width            \n",
       "YBINNING=                    1 / SBIGFITSEXT Binning factor in height           \n",
       "CCD-TEMP=                -24.5 / SBIGFITSEXT Temperature of the CCD             \n",
       "SET-TEMP=                 -25. / SBIGFITSEXT The cooler setpoint in degrees C   \n",
       "SITELAT = '-33 25 34.61'       / SBIGFITSEXT Latitude of the imaging location   \n",
       "SITELONG= '+70 33 59.62'       / SBIGFITSEXT Longitude of the imaging location  \n",
       "LST     = '+00 27 01.35'       / Local sidereal time                            \n",
       "OBSGEO-B=            -33.42628 / Latitude of the observation in degrees, North +\n",
       "OBSGEO-L=            -70.56656 / Longitude of the observation in degrees, East +\n",
       "OBSGEO-H=                1500. / Altitude of the observation in meters          \n",
       "BTP     =                    1 / Beyond the pole                                \n",
       "CENTAZ  =     154.858174210166 / SBIGFITSEXT Azimuth of the center of the image \n",
       "CENTALT =     35.1820930103545 / SBIGFITSEXT Altitude of the center of the image\n",
       "AIRMASS =     1.73544495594945 / Airmass of the telescope                       \n",
       "TELEHA  = '-05 12 19.50'       / Telescope hour angle                           \n",
       "MOUNT   = 'ASCOM Mount'        / The telescope mount                            \n",
       "OBJCTRA = '05 39 29.686'       / SBIGFITSEXT The right ascension of the center o\n",
       "OBJCTDEC= '-69 13 56.06'       / SBIGFITSEXT The declination of the center of th\n",
       "OBJECT  = 'NGC 2070'           / SBIGFITSEXT The name of the object imaged      \n",
       "INSTRUME= 'Gx/Cx USB'          / SBIGFITSEXT The model camera used.             \n",
       "XPIXSZ  =                   9. / SBIGFITSEXT Pixel width in microns after binnin\n",
       "YPIXSZ  =                   9. / SBIGFITSEXT Pixel height in microns after binni\n",
       "FOCPOS  =                2085. / The focuser position.                          \n",
       "FOCTEMP =     8.73365879058838 / The focuser temperature in degrees C.          \n",
       "FOCTMPSC= 'Focuser (Default)'  / The focuser temperature source.                \n",
       "FILTER  = 'V       '           / SBIGFITSEXT The optical filter used to take ima\n",
       "DATE-OBS= '2023-10-06T04:11:00.283' / SBIGFITSEXT UTC of start exp. in ISO 8601 \n",
       "GAIN    =    0.850000023841858 / Camera gain in e-/ADU                          "
      ]
     },
     "execution_count": 13,
     "metadata": {},
     "output_type": "execute_result"
    }
   ],
   "source": [
    "header_ngcv"
   ]
  },
  {
   "cell_type": "code",
   "execution_count": 14,
   "id": "d5886ed8",
   "metadata": {},
   "outputs": [
    {
     "data": {
      "text/html": [
       "<div><i>QTable length=1027</i>\n",
       "<table id=\"table3127302181264\" class=\"table-striped table-bordered table-condensed\">\n",
       "<thead><tr><th>label</th><th>xcentroid</th><th>ycentroid</th><th>area</th><th>segment_flux</th></tr></thead>\n",
       "<thead><tr><th></th><th></th><th></th><th>pix2</th><th></th></tr></thead>\n",
       "<thead><tr><th>int32</th><th>float64</th><th>float64</th><th>float64</th><th>float64</th></tr></thead>\n",
       "<tr><td>1</td><td>3421.055959411376</td><td>4.424132500404846</td><td>208.0</td><td>502.12943941423447</td></tr>\n",
       "<tr><td>2</td><td>2084.927114466944</td><td>15.29746086125732</td><td>156.0</td><td>204.77822112557135</td></tr>\n",
       "<tr><td>3</td><td>1711.8003135994995</td><td>18.539506752339</td><td>310.0</td><td>655.9677521191092</td></tr>\n",
       "<tr><td>4</td><td>923.0684847246181</td><td>14.625760800853879</td><td>36.0</td><td>37.37500492998914</td></tr>\n",
       "<tr><td>5</td><td>2234.2549134375445</td><td>14.501379536742217</td><td>68.0</td><td>71.6785788821078</td></tr>\n",
       "<tr><td>6</td><td>2474.46306667768</td><td>15.689387745813319</td><td>21.0</td><td>20.87708304101735</td></tr>\n",
       "<tr><td>7</td><td>3534.0094320508633</td><td>15.973813717402807</td><td>25.0</td><td>25.480739334600404</td></tr>\n",
       "<tr><td>8</td><td>3621.5443007687913</td><td>28.370205983440428</td><td>46.0</td><td>46.728068564760896</td></tr>\n",
       "<tr><td>9</td><td>3884.9045267197275</td><td>33.58182767339601</td><td>79.0</td><td>89.49072208473657</td></tr>\n",
       "<tr><td>...</td><td>...</td><td>...</td><td>...</td><td>...</td></tr>\n",
       "<tr><td>1018</td><td>1749.1706260558062</td><td>4007.1408628807017</td><td>442.0</td><td>1324.0795200785465</td></tr>\n",
       "<tr><td>1019</td><td>2169.965088951922</td><td>4003.0491100244385</td><td>80.0</td><td>88.04398631038363</td></tr>\n",
       "<tr><td>1020</td><td>2548.410709968323</td><td>4009.299032985981</td><td>354.0</td><td>920.102888738423</td></tr>\n",
       "<tr><td>1021</td><td>761.2054172179704</td><td>4007.3473575827657</td><td>39.0</td><td>40.81604966146737</td></tr>\n",
       "<tr><td>1022</td><td>2844.954143761977</td><td>4022.1688322123623</td><td>153.0</td><td>196.9091940519965</td></tr>\n",
       "<tr><td>1023</td><td>1245.2242498954074</td><td>4029.0166771344534</td><td>177.0</td><td>239.53286675518544</td></tr>\n",
       "<tr><td>1024</td><td>3030.7501314284104</td><td>4064.4677715259018</td><td>23.0</td><td>22.372444034575615</td></tr>\n",
       "<tr><td>1025</td><td>3362.0007692052477</td><td>4079.4668707065543</td><td>176.0</td><td>262.12736948120323</td></tr>\n",
       "<tr><td>1026</td><td>3512.279757708813</td><td>4087.131022310989</td><td>154.0</td><td>227.3207847658087</td></tr>\n",
       "<tr><td>1027</td><td>1608.4171031380208</td><td>4090.775435865226</td><td>104.0</td><td>127.1024381715556</td></tr>\n",
       "</table></div>"
      ],
      "text/plain": [
       "<QTable length=1027>\n",
       "label     xcentroid          ycentroid        area     segment_flux   \n",
       "                                              pix2                    \n",
       "int32      float64            float64       float64      float64      \n",
       "----- ------------------ ------------------ ------- ------------------\n",
       "    1  3421.055959411376  4.424132500404846   208.0 502.12943941423447\n",
       "    2  2084.927114466944  15.29746086125732   156.0 204.77822112557135\n",
       "    3 1711.8003135994995    18.539506752339   310.0  655.9677521191092\n",
       "    4  923.0684847246181 14.625760800853879    36.0  37.37500492998914\n",
       "    5 2234.2549134375445 14.501379536742217    68.0   71.6785788821078\n",
       "    6   2474.46306667768 15.689387745813319    21.0  20.87708304101735\n",
       "    7 3534.0094320508633 15.973813717402807    25.0 25.480739334600404\n",
       "    8 3621.5443007687913 28.370205983440428    46.0 46.728068564760896\n",
       "    9 3884.9045267197275  33.58182767339601    79.0  89.49072208473657\n",
       "  ...                ...                ...     ...                ...\n",
       " 1018 1749.1706260558062 4007.1408628807017   442.0 1324.0795200785465\n",
       " 1019  2169.965088951922 4003.0491100244385    80.0  88.04398631038363\n",
       " 1020  2548.410709968323  4009.299032985981   354.0   920.102888738423\n",
       " 1021  761.2054172179704 4007.3473575827657    39.0  40.81604966146737\n",
       " 1022  2844.954143761977 4022.1688322123623   153.0  196.9091940519965\n",
       " 1023 1245.2242498954074 4029.0166771344534   177.0 239.53286675518544\n",
       " 1024 3030.7501314284104 4064.4677715259018    23.0 22.372444034575615\n",
       " 1025 3362.0007692052477 4079.4668707065543   176.0 262.12736948120323\n",
       " 1026  3512.279757708813  4087.131022310989   154.0  227.3207847658087\n",
       " 1027 1608.4171031380208  4090.775435865226   104.0  127.1024381715556"
      ]
     },
     "execution_count": 14,
     "metadata": {},
     "output_type": "execute_result"
    }
   ],
   "source": [
    "catalogo_ngcv = SourceCatalog(data_ngcv, source_ngcv) # creamos catologo\n",
    "tabla_ngcv = catalogo_ngcv.to_table(); # convertimos a tabla\n",
    "tabla_ngcv = tabla_ngcv['label', 'xcentroid', 'ycentroid', 'area', 'segment_flux']# organizamos data importante\n",
    "tabla_ngcv['segment_flux'] = tabla_ngcv['segment_flux']/header_ngcv['EXPTIME']# Dividimos el \"flujo\"(energy) por el tiempo \n",
    "tabla_ngcv                                                                     # de exposición "
   ]
  },
  {
   "cell_type": "code",
   "execution_count": 15,
   "id": "c4c80c16",
   "metadata": {},
   "outputs": [
    {
     "data": {
      "text/plain": [
       "(4.921370588296405, 2761961.751343275)"
      ]
     },
     "execution_count": 15,
     "metadata": {},
     "output_type": "execute_result"
    }
   ],
   "source": [
    "# obtenemos la estrella, que sera la de mayor area\n",
    "ngc2070v = np.argmax(tabla_ngcv['area']) \n",
    "\n",
    "flujo_ngc2070v = tabla_ngcv['segment_flux'][ngc2070v] # flujo de ngc2070\n",
    "\n",
    "mag_a_ngcv = zeropointV_total - 2.5*np.log(flujo_ngc2070v)\n",
    "\n",
    "mag_a_ngcv, flujo_ngc2070v"
   ]
  },
  {
   "cell_type": "code",
   "execution_count": 16,
   "id": "5050fe42",
   "metadata": {},
   "outputs": [
    {
     "data": {
      "text/html": [
       "<div><i>QTable length=1027</i>\n",
       "<table id=\"table3127302181264\" class=\"table-striped table-bordered table-condensed\">\n",
       "<thead><tr><th>label</th><th>xcentroid</th><th>ycentroid</th><th>area</th><th>segment_flux</th><th>magnitude</th></tr></thead>\n",
       "<thead><tr><th></th><th></th><th></th><th>pix2</th><th></th><th></th></tr></thead>\n",
       "<thead><tr><th>int32</th><th>float64</th><th>float64</th><th>float64</th><th>float64</th><th>float64</th></tr></thead>\n",
       "<tr><td>1</td><td>3421.055959411376</td><td>4.424132500404846</td><td>208.0</td><td>502.12943941423447</td><td>26.452855165266236</td></tr>\n",
       "<tr><td>2</td><td>2084.927114466944</td><td>15.29746086125732</td><td>156.0</td><td>204.77822112557135</td><td>28.69518113662418</td></tr>\n",
       "<tr><td>3</td><td>1711.8003135994995</td><td>18.539506752339</td><td>310.0</td><td>655.9677521191092</td><td>25.784720926548097</td></tr>\n",
       "<tr><td>4</td><td>923.0684847246181</td><td>14.625760800853879</td><td>36.0</td><td>37.37500492998914</td><td>32.94749459095773</td></tr>\n",
       "<tr><td>5</td><td>2234.2549134375445</td><td>14.501379536742217</td><td>68.0</td><td>71.6785788821078</td><td>31.31952014348328</td></tr>\n",
       "<tr><td>6</td><td>2474.46306667768</td><td>15.689387745813319</td><td>21.0</td><td>20.87708304101735</td><td>34.40336986961343</td></tr>\n",
       "<tr><td>7</td><td>3534.0094320508633</td><td>15.973813717402807</td><td>25.0</td><td>25.480739334600404</td><td>33.9051928836135</td></tr>\n",
       "<tr><td>8</td><td>3621.5443007687913</td><td>28.370205983440428</td><td>46.0</td><td>46.728068564760896</td><td>32.38913743986666</td></tr>\n",
       "<tr><td>9</td><td>3884.9045267197275</td><td>33.58182767339601</td><td>79.0</td><td>89.49072208473657</td><td>30.764662609875877</td></tr>\n",
       "<tr><td>...</td><td>...</td><td>...</td><td>...</td><td>...</td><td>...</td></tr>\n",
       "<tr><td>1018</td><td>1749.1706260558062</td><td>4007.1408628807017</td><td>442.0</td><td>1324.0795200785465</td><td>24.028818012060796</td></tr>\n",
       "<tr><td>1019</td><td>2169.965088951922</td><td>4003.0491100244385</td><td>80.0</td><td>88.04398631038363</td><td>30.805408664915582</td></tr>\n",
       "<tr><td>1020</td><td>2548.410709968323</td><td>4009.299032985981</td><td>354.0</td><td>920.102888738423</td><td>24.93878625156201</td></tr>\n",
       "<tr><td>1021</td><td>761.2054172179704</td><td>4007.3473575827657</td><td>39.0</td><td>40.81604966146737</td><td>32.727311554714</td></tr>\n",
       "<tr><td>1022</td><td>2844.954143761977</td><td>4022.1688322123623</td><td>153.0</td><td>196.9091940519965</td><td>28.793143303569504</td></tr>\n",
       "<tr><td>1023</td><td>1245.2242498954074</td><td>4029.0166771344534</td><td>177.0</td><td>239.53286675518544</td><td>28.30327340463429</td></tr>\n",
       "<tr><td>1024</td><td>3030.7501314284104</td><td>4064.4677715259018</td><td>23.0</td><td>22.372444034575615</td><td>34.23042493863942</td></tr>\n",
       "<tr><td>1025</td><td>3362.0007692052477</td><td>4079.4668707065543</td><td>176.0</td><td>262.12736948120323</td><td>28.07792367827532</td></tr>\n",
       "<tr><td>1026</td><td>3512.279757708813</td><td>4087.131022310989</td><td>154.0</td><td>227.3207847658087</td><td>28.43409457831387</td></tr>\n",
       "<tr><td>1027</td><td>1608.4171031380208</td><td>4090.775435865226</td><td>104.0</td><td>127.1024381715556</td><td>29.8875165972304</td></tr>\n",
       "</table></div>"
      ],
      "text/plain": [
       "<QTable length=1027>\n",
       "label     xcentroid      ...    segment_flux        magnitude     \n",
       "                         ...                                      \n",
       "int32      float64       ...      float64            float64      \n",
       "----- ------------------ ... ------------------ ------------------\n",
       "    1  3421.055959411376 ... 502.12943941423447 26.452855165266236\n",
       "    2  2084.927114466944 ... 204.77822112557135  28.69518113662418\n",
       "    3 1711.8003135994995 ...  655.9677521191092 25.784720926548097\n",
       "    4  923.0684847246181 ...  37.37500492998914  32.94749459095773\n",
       "    5 2234.2549134375445 ...   71.6785788821078  31.31952014348328\n",
       "    6   2474.46306667768 ...  20.87708304101735  34.40336986961343\n",
       "    7 3534.0094320508633 ... 25.480739334600404   33.9051928836135\n",
       "    8 3621.5443007687913 ... 46.728068564760896  32.38913743986666\n",
       "    9 3884.9045267197275 ...  89.49072208473657 30.764662609875877\n",
       "  ...                ... ...                ...                ...\n",
       " 1018 1749.1706260558062 ... 1324.0795200785465 24.028818012060796\n",
       " 1019  2169.965088951922 ...  88.04398631038363 30.805408664915582\n",
       " 1020  2548.410709968323 ...   920.102888738423  24.93878625156201\n",
       " 1021  761.2054172179704 ...  40.81604966146737    32.727311554714\n",
       " 1022  2844.954143761977 ...  196.9091940519965 28.793143303569504\n",
       " 1023 1245.2242498954074 ... 239.53286675518544  28.30327340463429\n",
       " 1024 3030.7501314284104 ... 22.372444034575615  34.23042493863942\n",
       " 1025 3362.0007692052477 ... 262.12736948120323  28.07792367827532\n",
       " 1026  3512.279757708813 ...  227.3207847658087  28.43409457831387\n",
       " 1027 1608.4171031380208 ...  127.1024381715556   29.8875165972304"
      ]
     },
     "execution_count": 16,
     "metadata": {},
     "output_type": "execute_result"
    }
   ],
   "source": [
    "flujo_fuentes_ngcv = tabla_ngcv['segment_flux'] # obtenemos columna segment flux\n",
    "\n",
    "tabla_ngcv['magnitude'] = zeropointV_total - 2.5*np.log(flujo_fuentes_ngcv) # calibramos cada fuente\n",
    "tabla_ngcv"
   ]
  },
  {
   "cell_type": "code",
   "execution_count": 17,
   "id": "b2fc5c72",
   "metadata": {},
   "outputs": [
    {
     "data": {
      "text/plain": [
       "4.921370588296405"
      ]
     },
     "execution_count": 17,
     "metadata": {},
     "output_type": "execute_result"
    }
   ],
   "source": [
    "# comprobamos la magnitud absoluta de nuestra estrella para el filtro B\n",
    "\n",
    "magnitud_ab_ngc2070v = tabla_ngcv['magnitude'][ngc2070v]\n",
    "magnitud_ab_ngc2070v"
   ]
  },
  {
   "cell_type": "markdown",
   "id": "88ee98fc",
   "metadata": {},
   "source": [
    "**Catalogación con deblend NGC2070B**"
   ]
  },
  {
   "cell_type": "code",
   "execution_count": 18,
   "id": "f69a2382",
   "metadata": {},
   "outputs": [
    {
     "data": {
      "text/plain": [
       "<photutils.segmentation.core.SegmentationImage>\n",
       "shape: (4096, 4096)\n",
       "nlabels: 1597\n",
       "labels: [   1    2    3    4    5 ... 1593 1594 1595 1596 1597]"
      ]
     },
     "execution_count": 18,
     "metadata": {},
     "output_type": "execute_result"
    }
   ],
   "source": [
    "#Obtenemos el \"umbral\" que utilizaremos para detectar las fuentes\n",
    "threshold = detect_threshold(data_ngcb, nsigma=3)\n",
    "#Utilizamos el umbral y la imagen para detectar fuentes\n",
    "sour = detect_sources(data_ngcb, threshold, npixels= 15)\n",
    "#Mostramos el número de fuentes detectadas\n",
    "sour"
   ]
  },
  {
   "cell_type": "code",
   "execution_count": 19,
   "id": "259c2780",
   "metadata": {},
   "outputs": [
    {
     "data": {
      "application/vnd.jupyter.widget-view+json": {
       "model_id": "bd39292331b44dd2bfdc892575bbbbbb",
       "version_major": 2,
       "version_minor": 0
      },
      "text/plain": [
       "Deblending:   0%|          | 0/1337 [00:00<?, ?it/s]"
      ]
     },
     "metadata": {},
     "output_type": "display_data"
    },
    {
     "data": {
      "text/plain": [
       "<photutils.segmentation.core.SegmentationImage>\n",
       "shape: (4096, 4096)\n",
       "nlabels: 1597\n",
       "labels: [   1    2    3    4    5 ... 1593 1594 1595 1596 1597]"
      ]
     },
     "execution_count": 19,
     "metadata": {},
     "output_type": "execute_result"
    }
   ],
   "source": [
    "#Usamos la función mencionada para separar las fuentes\n",
    "sour_deblend = deblend_sources(data_ngcb, sour, npixels=15, nlevels=32,contrast=0.5)\n",
    "#Mostramos el número de fuentes detectadas\n",
    "sour_deblend"
   ]
  },
  {
   "cell_type": "code",
   "execution_count": 20,
   "id": "3a8ab8e9",
   "metadata": {},
   "outputs": [
    {
     "data": {
      "image/png": "[encoded data removed]",
      "text/plain": [
       "<Figure size 1000x1000 with 1 Axes>"
      ]
     },
     "metadata": {},
     "output_type": "display_data"
    }
   ],
   "source": [
    "cmap_deblend = sour_deblend.make_cmap(seed=123)\n",
    "#Y mostramos las fuentes\n",
    "fig, ax = plt.subplots(1, 1, figsize=(10,10))\n",
    "ax.imshow(sour_deblend, origin='lower', cmap=cmap_deblend,interpolation='nearest')\n",
    "plt.show()"
   ]
  },
  {
   "cell_type": "code",
   "execution_count": 21,
   "id": "412c5601",
   "metadata": {},
   "outputs": [
    {
     "data": {
      "text/html": [
       "<div><i>QTable length=1597</i>\n",
       "<table id=\"table3127307879440\" class=\"table-striped table-bordered table-condensed\">\n",
       "<thead><tr><th>label</th><th>xcentroid</th><th>ycentroid</th><th>sky_centroid</th><th>bbox_xmin</th><th>bbox_xmax</th><th>bbox_ymin</th><th>bbox_ymax</th><th>area</th><th>semimajor_sigma</th><th>semiminor_sigma</th><th>orientation</th><th>eccentricity</th><th>min_value</th><th>max_value</th><th>local_background</th><th>segment_flux</th><th>segment_fluxerr</th><th>kron_flux</th><th>kron_fluxerr</th></tr></thead>\n",
       "<thead><tr><th></th><th></th><th></th><th></th><th></th><th></th><th></th><th></th><th>pix2</th><th>pix</th><th>pix</th><th>deg</th><th></th><th></th><th></th><th></th><th></th><th></th><th></th><th></th></tr></thead>\n",
       "<thead><tr><th>int32</th><th>float64</th><th>float64</th><th>object</th><th>int32</th><th>int32</th><th>int32</th><th>int32</th><th>float64</th><th>float64</th><th>float64</th><th>float64</th><th>float64</th><th>float64</th><th>float64</th><th>float64</th><th>float64</th><th>float64</th><th>float64</th><th>float64</th></tr></thead>\n",
       "<tr><td>1</td><td>2588.103550169616</td><td>3.4515078133930643</td><td>None</td><td>2584</td><td>2592</td><td>0</td><td>8</td><td>36.0</td><td>2.1591516498681287</td><td>1.9259289739154306</td><td>32.456958943037776</td><td>0.4520667409716024</td><td>300.97051483501247</td><td>394.23466066376665</td><td>0.0</td><td>11807.973578415982</td><td>nan</td><td>168706.83760468045</td><td>nan</td></tr>\n",
       "<tr><td>2</td><td>2675.954354651062</td><td>2.940390251152407</td><td>None</td><td>2669</td><td>2683</td><td>0</td><td>8</td><td>84.0</td><td>3.5258614342882346</td><td>2.0884565724694952</td><td>-0.709641681704905</td><td>0.8056989882820932</td><td>299.14018917530444</td><td>502.8576943958497</td><td>0.0</td><td>29578.15271116542</td><td>nan</td><td>285796.0661501045</td><td>nan</td></tr>\n",
       "<tr><td>3</td><td>3423.668897632228</td><td>5.1153665974163856</td><td>None</td><td>3408</td><td>3441</td><td>0</td><td>17</td><td>422.0</td><td>5.978910296339435</td><td>3.76677353428134</td><td>0.6432804196625699</td><td>0.7765869850994871</td><td>298.968776530516</td><td>3186.4514337991736</td><td>0.0</td><td>387703.91578242625</td><td>nan</td><td>766385.9978087583</td><td>nan</td></tr>\n",
       "<tr><td>4</td><td>3625.636166464378</td><td>5.841086280211863</td><td>None</td><td>3623</td><td>3629</td><td>1</td><td>9</td><td>29.0</td><td>2.135108496826948</td><td>1.5841567787825965</td><td>-87.21105048133055</td><td>0.6704484632839067</td><td>299.27735758736236</td><td>368.5674820143885</td><td>0.0</td><td>9211.700156417406</td><td>nan</td><td>158898.43178565413</td><td>nan</td></tr>\n",
       "<tr><td>5</td><td>436.95046189687855</td><td>8.60795610540508</td><td>None</td><td>430</td><td>443</td><td>2</td><td>15</td><td>69.0</td><td>3.320761661344456</td><td>2.6661235939405215</td><td>-55.44417260057067</td><td>0.5961607627770884</td><td>299.0631888317414</td><td>353.56876938986557</td><td>0.0</td><td>22181.310041528868</td><td>nan</td><td>409701.9932195017</td><td>nan</td></tr>\n",
       "<tr><td>6</td><td>1475.9771529228296</td><td>9.410289669622706</td><td>None</td><td>1468</td><td>1483</td><td>2</td><td>17</td><td>146.0</td><td>3.6266296288771085</td><td>3.437436305411392</td><td>-65.11021541689036</td><td>0.3187697265715159</td><td>299.5084881782826</td><td>423.13171003372423</td><td>0.0</td><td>49333.289467927054</td><td>nan</td><td>537255.7896859478</td><td>nan</td></tr>\n",
       "<tr><td>7</td><td>924.7326176312736</td><td>14.15402944764285</td><td>None</td><td>918</td><td>932</td><td>6</td><td>21</td><td>140.0</td><td>3.4494066266988908</td><td>3.367482689549088</td><td>52.80686832528011</td><td>0.2166477264321713</td><td>298.977110669749</td><td>507.3715161195684</td><td>0.0</td><td>49143.89707931822</td><td>nan</td><td>596256.3402810065</td><td>nan</td></tr>\n",
       "<tr><td>8</td><td>2236.5835613879344</td><td>14.153470496357468</td><td>None</td><td>2229</td><td>2245</td><td>7</td><td>21</td><td>179.0</td><td>3.9203379098923263</td><td>3.5470611168548585</td><td>-9.947962486924695</td><td>0.4258696318990722</td><td>299.5101090040316</td><td>506.65580916631353</td><td>0.0</td><td>65562.62550967708</td><td>nan</td><td>686303.8851739406</td><td>nan</td></tr>\n",
       "<tr><td>9</td><td>2087.24807400224</td><td>15.87455866657438</td><td>None</td><td>2080</td><td>2094</td><td>9</td><td>22</td><td>121.0</td><td>3.4323734213248382</td><td>3.076347741485405</td><td>-14.420105877238099</td><td>0.44350034818402706</td><td>298.94281805745555</td><td>427.7470791210122</td><td>0.0</td><td>41213.30487134342</td><td>nan</td><td>612219.2087140137</td><td>nan</td></tr>\n",
       "<tr><td>...</td><td>...</td><td>...</td><td>...</td><td>...</td><td>...</td><td>...</td><td>...</td><td>...</td><td>...</td><td>...</td><td>...</td><td>...</td><td>...</td><td>...</td><td>...</td><td>...</td><td>...</td><td>...</td><td>...</td></tr>\n",
       "<tr><td>1588</td><td>631.5399858334351</td><td>4047.697530833496</td><td>None</td><td>624</td><td>638</td><td>4040</td><td>4053</td><td>120.0</td><td>3.3864968569389613</td><td>2.950274744106354</td><td>26.070745998199733</td><td>0.49094991431361207</td><td>298.98630036360964</td><td>508.983753663567</td><td>0.0</td><td>44452.77825240355</td><td>nan</td><td>554420.0066999889</td><td>nan</td></tr>\n",
       "<tr><td>1589</td><td>748.8960311382241</td><td>4057.0878068869365</td><td>None</td><td>736</td><td>761</td><td>4046</td><td>4068</td><td>412.0</td><td>5.190931206227972</td><td>4.7842333289112355</td><td>-7.010735728733284</td><td>0.38801696416604514</td><td>299.6915167095116</td><td>1451.8542479782684</td><td>0.0</td><td>245444.84477914742</td><td>nan</td><td>1320609.9982189243</td><td>nan</td></tr>\n",
       "<tr><td>1590</td><td>708.9157841374164</td><td>4064.7737773824774</td><td>None</td><td>700</td><td>717</td><td>4056</td><td>4073</td><td>206.0</td><td>4.0073570334969855</td><td>3.758037106714885</td><td>-6.258657727128054</td><td>0.3472179828724526</td><td>299.2412346418939</td><td>632.6882924419562</td><td>0.0</td><td>83864.36322227237</td><td>nan</td><td>839399.6833949666</td><td>nan</td></tr>\n",
       "<tr><td>1591</td><td>1141.896997225062</td><td>4070.9248302419733</td><td>None</td><td>1132</td><td>1152</td><td>4062</td><td>4079</td><td>267.0</td><td>4.527311652790016</td><td>4.075316452230648</td><td>8.755402322138037</td><td>0.43555408804287843</td><td>300.62671976828386</td><td>825.851338076385</td><td>0.0</td><td>120358.68387703618</td><td>nan</td><td>964809.8680287487</td><td>nan</td></tr>\n",
       "<tr><td>1592</td><td>1083.790348837074</td><td>4069.9556742336213</td><td>None</td><td>1080</td><td>1087</td><td>4067</td><td>4072</td><td>23.0</td><td>2.270580281872607</td><td>1.4383349573970834</td><td>8.753223543038592</td><td>0.7737706887295327</td><td>299.2209871053802</td><td>340.1241445551687</td><td>0.0</td><td>7142.398542012417</td><td>nan</td><td>209239.6669888401</td><td>nan</td></tr>\n",
       "<tr><td>1593</td><td>902.2149500391536</td><td>4078.5646061133148</td><td>None</td><td>895</td><td>909</td><td>4072</td><td>4085</td><td>131.0</td><td>3.4224796813261165</td><td>3.0636917610745398</td><td>26.9646284135294</td><td>0.44573038420329764</td><td>298.9246435845214</td><td>451.9872810101813</td><td>0.0</td><td>46679.96982872112</td><td>nan</td><td>545867.5590561136</td><td>nan</td></tr>\n",
       "<tr><td>1594</td><td>1735.8263755829396</td><td>4082.475052096936</td><td>None</td><td>1730</td><td>1742</td><td>4077</td><td>4088</td><td>76.0</td><td>2.871921164930902</td><td>2.523107500572855</td><td>2.985719602462648</td><td>0.4776624576692595</td><td>299.1914241960184</td><td>426.0239958864194</td><td>0.0</td><td>25334.33428441214</td><td>nan</td><td>379648.5770312863</td><td>nan</td></tr>\n",
       "<tr><td>1595</td><td>3367.0689494025523</td><td>4080.992971624207</td><td>None</td><td>3364</td><td>3370</td><td>4078</td><td>4084</td><td>21.0</td><td>2.2535869924268344</td><td>1.1466917278376607</td><td>-60.883404340186864</td><td>0.8608672698301025</td><td>300.6256731964254</td><td>375.20155963569704</td><td>0.0</td><td>6849.511854067084</td><td>nan</td><td>159773.7199543593</td><td>nan</td></tr>\n",
       "<tr><td>1596</td><td>1612.0904884139802</td><td>4091.450894308927</td><td>None</td><td>1605</td><td>1619</td><td>4086</td><td>4095</td><td>95.0</td><td>3.2624632619798746</td><td>2.5133034042041995</td><td>-2.4740495748403046</td><td>0.637597256066656</td><td>299.4596564289433</td><td>469.28342620416026</td><td>0.0</td><td>33734.26662483984</td><td>nan</td><td>282115.93413618125</td><td>nan</td></tr>\n",
       "<tr><td>1597</td><td>2724.2654871149016</td><td>4092.5756175698175</td><td>None</td><td>2718</td><td>2730</td><td>4087</td><td>4095</td><td>66.0</td><td>3.133557259109596</td><td>1.984684676021368</td><td>2.8721284585121087</td><td>0.7738534145456404</td><td>298.91168720781985</td><td>498.3132120387689</td><td>0.0</td><td>23444.909059655234</td><td>nan</td><td>209474.54112311147</td><td>nan</td></tr>\n",
       "</table></div>"
      ],
      "text/plain": [
       "<QTable length=1597>\n",
       "label     xcentroid          ycentroid      ...     kron_flux      kron_fluxerr\n",
       "                                            ...                                \n",
       "int32      float64            float64       ...      float64         float64   \n",
       "----- ------------------ ------------------ ... ------------------ ------------\n",
       "    1  2588.103550169616 3.4515078133930643 ... 168706.83760468045          nan\n",
       "    2  2675.954354651062  2.940390251152407 ...  285796.0661501045          nan\n",
       "    3  3423.668897632228 5.1153665974163856 ...  766385.9978087583          nan\n",
       "    4  3625.636166464378  5.841086280211863 ... 158898.43178565413          nan\n",
       "    5 436.95046189687855   8.60795610540508 ...  409701.9932195017          nan\n",
       "    6 1475.9771529228296  9.410289669622706 ...  537255.7896859478          nan\n",
       "    7  924.7326176312736  14.15402944764285 ...  596256.3402810065          nan\n",
       "    8 2236.5835613879344 14.153470496357468 ...  686303.8851739406          nan\n",
       "    9   2087.24807400224  15.87455866657438 ...  612219.2087140137          nan\n",
       "  ...                ...                ... ...                ...          ...\n",
       " 1588  631.5399858334351  4047.697530833496 ...  554420.0066999889          nan\n",
       " 1589  748.8960311382241 4057.0878068869365 ... 1320609.9982189243          nan\n",
       " 1590  708.9157841374164 4064.7737773824774 ...  839399.6833949666          nan\n",
       " 1591  1141.896997225062 4070.9248302419733 ...  964809.8680287487          nan\n",
       " 1592  1083.790348837074 4069.9556742336213 ...  209239.6669888401          nan\n",
       " 1593  902.2149500391536 4078.5646061133148 ...  545867.5590561136          nan\n",
       " 1594 1735.8263755829396  4082.475052096936 ...  379648.5770312863          nan\n",
       " 1595 3367.0689494025523  4080.992971624207 ...  159773.7199543593          nan\n",
       " 1596 1612.0904884139802  4091.450894308927 ... 282115.93413618125          nan\n",
       " 1597 2724.2654871149016 4092.5756175698175 ... 209474.54112311147          nan"
      ]
     },
     "execution_count": 21,
     "metadata": {},
     "output_type": "execute_result"
    }
   ],
   "source": [
    "#Obtenemos el catálogo\n",
    "catalogo = SourceCatalog(data_ngcb, sour_deblend)\n",
    "#Lo pasamos a tabla y lo mostramos\n",
    "tablaB = catalogo.to_table()\n",
    "tablaB"
   ]
  },
  {
   "cell_type": "code",
   "execution_count": 22,
   "id": "d75ed1d7",
   "metadata": {},
   "outputs": [
    {
     "data": {
      "text/html": [
       "<div><i>QTable length=1597</i>\n",
       "<table id=\"table3127308832912\" class=\"table-striped table-bordered table-condensed\">\n",
       "<thead><tr><th>label</th><th>xcentroid</th><th>ycentroid</th><th>area</th><th>segment_flux</th><th>magnitude</th></tr></thead>\n",
       "<thead><tr><th></th><th></th><th></th><th>pix2</th><th></th><th></th></tr></thead>\n",
       "<thead><tr><th>int32</th><th>float64</th><th>float64</th><th>float64</th><th>float64</th><th>float64</th></tr></thead>\n",
       "<tr><td>1</td><td>2588.103550169616</td><td>3.4515078133930643</td><td>36.0</td><td>29.519933946039956</td><td>25.97733559467626</td></tr>\n",
       "<tr><td>2</td><td>2675.954354651062</td><td>2.940390251152407</td><td>84.0</td><td>73.94538177791355</td><td>23.681683158490593</td></tr>\n",
       "<tr><td>3</td><td>3423.668897632228</td><td>5.1153665974163856</td><td>422.0</td><td>969.2597894560656</td><td>17.248668308669785</td></tr>\n",
       "<tr><td>4</td><td>3625.636166464378</td><td>5.841086280211863</td><td>29.0</td><td>23.029250391043515</td><td>26.598087089838437</td></tr>\n",
       "<tr><td>5</td><td>436.95046189687855</td><td>8.60795610540508</td><td>69.0</td><td>55.45327510382217</td><td>24.401148059643166</td></tr>\n",
       "<tr><td>6</td><td>1475.9771529228296</td><td>9.410289669622706</td><td>146.0</td><td>123.33322366981764</td><td>22.402775430484688</td></tr>\n",
       "<tr><td>7</td><td>924.7326176312736</td><td>14.15402944764285</td><td>140.0</td><td>122.85974269829556</td><td>22.412391496334763</td></tr>\n",
       "<tr><td>8</td><td>2236.5835613879344</td><td>14.153470496357468</td><td>179.0</td><td>163.9065637741927</td><td>21.691758669048887</td></tr>\n",
       "<tr><td>9</td><td>2087.24807400224</td><td>15.87455866657438</td><td>121.0</td><td>103.03326217835854</td><td>22.852370325329446</td></tr>\n",
       "<tr><td>...</td><td>...</td><td>...</td><td>...</td><td>...</td><td>...</td></tr>\n",
       "<tr><td>1588</td><td>631.5399858334351</td><td>4047.697530833496</td><td>120.0</td><td>111.13194563100888</td><td>22.663204513132328</td></tr>\n",
       "<tr><td>1589</td><td>748.8960311382241</td><td>4057.0878068869365</td><td>412.0</td><td>613.6121119478686</td><td>18.391592527457302</td></tr>\n",
       "<tr><td>1590</td><td>708.9157841374164</td><td>4064.7737773824774</td><td>206.0</td><td>209.66090805568092</td><td>21.07627124474511</td></tr>\n",
       "<tr><td>1591</td><td>1141.896997225062</td><td>4070.9248302419733</td><td>267.0</td><td>300.89670969259043</td><td>20.173082378276227</td></tr>\n",
       "<tr><td>1592</td><td>1083.790348837074</td><td>4069.9556742336213</td><td>23.0</td><td>17.855996355031042</td><td>27.234151544831114</td></tr>\n",
       "<tr><td>1593</td><td>902.2149500391536</td><td>4078.5646061133148</td><td>131.0</td><td>116.6999245718028</td><td>22.540985267626084</td></tr>\n",
       "<tr><td>1594</td><td>1735.8263755829396</td><td>4082.475052096936</td><td>76.0</td><td>63.33583571103035</td><td>24.06887176515344</td></tr>\n",
       "<tr><td>1595</td><td>3367.0689494025523</td><td>4080.992971624207</td><td>21.0</td><td>17.123779635167708</td><td>27.338829701427418</td></tr>\n",
       "<tr><td>1596</td><td>1612.0904884139802</td><td>4091.450894308927</td><td>95.0</td><td>84.33566656209959</td><td>23.352987833947605</td></tr>\n",
       "<tr><td>1597</td><td>2724.2654871149016</td><td>4092.5756175698175</td><td>66.0</td><td>58.612272649138085</td><td>24.26263973617988</td></tr>\n",
       "</table></div>"
      ],
      "text/plain": [
       "<QTable length=1597>\n",
       "label     xcentroid      ...    segment_flux        magnitude     \n",
       "                         ...                                      \n",
       "int32      float64       ...      float64            float64      \n",
       "----- ------------------ ... ------------------ ------------------\n",
       "    1  2588.103550169616 ... 29.519933946039956  25.97733559467626\n",
       "    2  2675.954354651062 ...  73.94538177791355 23.681683158490593\n",
       "    3  3423.668897632228 ...  969.2597894560656 17.248668308669785\n",
       "    4  3625.636166464378 ... 23.029250391043515 26.598087089838437\n",
       "    5 436.95046189687855 ...  55.45327510382217 24.401148059643166\n",
       "    6 1475.9771529228296 ... 123.33322366981764 22.402775430484688\n",
       "    7  924.7326176312736 ... 122.85974269829556 22.412391496334763\n",
       "    8 2236.5835613879344 ...  163.9065637741927 21.691758669048887\n",
       "    9   2087.24807400224 ... 103.03326217835854 22.852370325329446\n",
       "  ...                ... ...                ...                ...\n",
       " 1588  631.5399858334351 ... 111.13194563100888 22.663204513132328\n",
       " 1589  748.8960311382241 ...  613.6121119478686 18.391592527457302\n",
       " 1590  708.9157841374164 ... 209.66090805568092  21.07627124474511\n",
       " 1591  1141.896997225062 ... 300.89670969259043 20.173082378276227\n",
       " 1592  1083.790348837074 ... 17.855996355031042 27.234151544831114\n",
       " 1593  902.2149500391536 ...  116.6999245718028 22.540985267626084\n",
       " 1594 1735.8263755829396 ...  63.33583571103035  24.06887176515344\n",
       " 1595 3367.0689494025523 ... 17.123779635167708 27.338829701427418\n",
       " 1596 1612.0904884139802 ...  84.33566656209959 23.352987833947605\n",
       " 1597 2724.2654871149016 ... 58.612272649138085  24.26263973617988"
      ]
     },
     "execution_count": 22,
     "metadata": {},
     "output_type": "execute_result"
    }
   ],
   "source": [
    "tablaB = tablaB['label', 'xcentroid', 'ycentroid', 'area', 'segment_flux']\n",
    "#Dividimos el \"flujo\" por el tiempo de exposición \n",
    "tablaB['segment_flux'] = tablaB['segment_flux']/header_ngcb['EXPTIME']\n",
    "#Calculamos las magnitudes aparentes usando el zeropoint\n",
    "zeropoint = 34.44\n",
    "tablaB['magnitude'] = zeropoint - 2.5*np.log(tablaB['segment_flux'])\n",
    "tablaB"
   ]
  },
  {
   "cell_type": "code",
   "execution_count": 23,
   "id": "1da4026d",
   "metadata": {},
   "outputs": [
    {
     "data": {
      "text/html": [
       "&lt;Column name=&apos;magnitude&apos; dtype=&apos;float64&apos; length=1597&gt;\n",
       "<table>\n",
       "<tr><td>2.694178634220304</td></tr>\n",
       "<tr><td>8.95390399837935</td></tr>\n",
       "<tr><td>10.271058881104054</td></tr>\n",
       "<tr><td>10.387029054805055</td></tr>\n",
       "<tr><td>10.410913575463962</td></tr>\n",
       "<tr><td>11.062530538946088</td></tr>\n",
       "<tr><td>11.76296855527869</td></tr>\n",
       "<tr><td>12.125151874441613</td></tr>\n",
       "<tr><td>12.13528327979239</td></tr>\n",
       "<tr><td>12.30761332507791</td></tr>\n",
       "<tr><td>12.642471057217591</td></tr>\n",
       "<tr><td>12.656199837884902</td></tr>\n",
       "<tr><td>...</td></tr>\n",
       "<tr><td>28.283704824439496</td></tr>\n",
       "<tr><td>28.28618503685989</td></tr>\n",
       "<tr><td>28.292501237609883</td></tr>\n",
       "<tr><td>28.29704222295197</td></tr>\n",
       "<tr><td>28.30235620061989</td></tr>\n",
       "<tr><td>28.304634742761184</td></tr>\n",
       "<tr><td>28.30530356271846</td></tr>\n",
       "<tr><td>28.309576560013866</td></tr>\n",
       "<tr><td>28.313684589672874</td></tr>\n",
       "<tr><td>28.317754183522407</td></tr>\n",
       "<tr><td>28.325488237571992</td></tr>\n",
       "<tr><td>28.342743928650396</td></tr>\n",
       "</table>"
      ],
      "text/plain": [
       "<Column name='magnitude' dtype='float64' length=1597>\n",
       " 2.694178634220304\n",
       "  8.95390399837935\n",
       "10.271058881104054\n",
       "10.387029054805055\n",
       "10.410913575463962\n",
       "11.062530538946088\n",
       " 11.76296855527869\n",
       "12.125151874441613\n",
       " 12.13528327979239\n",
       " 12.30761332507791\n",
       "12.642471057217591\n",
       "12.656199837884902\n",
       "               ...\n",
       "28.283704824439496\n",
       " 28.28618503685989\n",
       "28.292501237609883\n",
       " 28.29704222295197\n",
       " 28.30235620061989\n",
       "28.304634742761184\n",
       " 28.30530356271846\n",
       "28.309576560013866\n",
       "28.313684589672874\n",
       "28.317754183522407\n",
       "28.325488237571992\n",
       "28.342743928650396"
      ]
     },
     "execution_count": 23,
     "metadata": {},
     "output_type": "execute_result"
    }
   ],
   "source": [
    "#Mostramos las magnitudes\n",
    "np.sort(tablaB['magnitude'])"
   ]
  },
  {
   "cell_type": "markdown",
   "id": "e09e1792",
   "metadata": {},
   "source": [
    "**Catalogación con deblend NGC2070V**"
   ]
  },
  {
   "cell_type": "code",
   "execution_count": 24,
   "id": "b154bad7",
   "metadata": {},
   "outputs": [
    {
     "data": {
      "text/plain": [
       "<photutils.segmentation.core.SegmentationImage>\n",
       "shape: (4096, 4096)\n",
       "nlabels: 1027\n",
       "labels: [   1    2    3    4    5 ... 1023 1024 1025 1026 1027]"
      ]
     },
     "execution_count": 24,
     "metadata": {},
     "output_type": "execute_result"
    }
   ],
   "source": [
    "#Obtenemos el \"umbral\" que utilizaremos para detectar las fuentes\n",
    "threshold = detect_threshold(data_ngcv, nsigma=3)\n",
    "#Utilizamos el umbral y la imagen para detectar fuentes\n",
    "sour = detect_sources(data_ngcv, threshold, npixels= 15)\n",
    "#Mostramos el número de fuentes detectadas\n",
    "sour"
   ]
  },
  {
   "cell_type": "code",
   "execution_count": 25,
   "id": "452b98a9",
   "metadata": {},
   "outputs": [
    {
     "data": {
      "application/vnd.jupyter.widget-view+json": {
       "model_id": "fca9daac4b0843beb3af26a1966dd2a4",
       "version_major": 2,
       "version_minor": 0
      },
      "text/plain": [
       "Deblending:   0%|          | 0/774 [00:00<?, ?it/s]"
      ]
     },
     "metadata": {},
     "output_type": "display_data"
    },
    {
     "data": {
      "text/plain": [
       "<photutils.segmentation.core.SegmentationImage>\n",
       "shape: (4096, 4096)\n",
       "nlabels: 1027\n",
       "labels: [   1    2    3    4    5 ... 1023 1024 1025 1026 1027]"
      ]
     },
     "execution_count": 25,
     "metadata": {},
     "output_type": "execute_result"
    }
   ],
   "source": [
    "#Usamos la función mencionada para separar las fuentes\n",
    "sour_deblend = deblend_sources(data_ngcv, sour, npixels=15, nlevels=32,contrast=0.5)\n",
    "#Mostramos el número de fuentes detectadas\n",
    "sour_deblend"
   ]
  },
  {
   "cell_type": "code",
   "execution_count": 26,
   "id": "ea1b81a7",
   "metadata": {
    "scrolled": false
   },
   "outputs": [
    {
     "data": {
      "image/png": "[encoded data removed]",
      "text/plain": [
       "<Figure size 1000x1000 with 1 Axes>"
      ]
     },
     "metadata": {},
     "output_type": "display_data"
    }
   ],
   "source": [
    "cmap_deblend = sour_deblend.make_cmap(seed=123)\n",
    "#Y mostramos las fuentes\n",
    "fig, ax = plt.subplots(1, 1, figsize=(10,10))\n",
    "ax.imshow(sour_deblend, origin='lower', cmap=cmap_deblend,interpolation='nearest')\n",
    "plt.show()"
   ]
  },
  {
   "cell_type": "code",
   "execution_count": 27,
   "id": "f927d876",
   "metadata": {},
   "outputs": [],
   "source": [
    "#Obtenemos el catálogo\n",
    "catalogo = SourceCatalog(data_ngcv, sour_deblend)\n",
    "#Lo pasamos a tabla y lo mostramos\n",
    "tablaV = catalogo.to_table()"
   ]
  },
  {
   "cell_type": "code",
   "execution_count": 28,
   "id": "2a2eda3a",
   "metadata": {
    "scrolled": false
   },
   "outputs": [
    {
     "data": {
      "text/html": [
       "<div><i>QTable length=1027</i>\n",
       "<table id=\"table3127781056016\" class=\"table-striped table-bordered table-condensed\">\n",
       "<thead><tr><th>label</th><th>xcentroid</th><th>ycentroid</th><th>area</th><th>segment_flux</th><th>magnitude</th></tr></thead>\n",
       "<thead><tr><th></th><th></th><th></th><th>pix2</th><th></th><th></th></tr></thead>\n",
       "<thead><tr><th>int32</th><th>float64</th><th>float64</th><th>float64</th><th>float64</th><th>float64</th></tr></thead>\n",
       "<tr><td>1</td><td>3421.055959411376</td><td>4.424132500404846</td><td>208.0</td><td>502.12943941423447</td><td>26.462855165266234</td></tr>\n",
       "<tr><td>2</td><td>2084.927114466944</td><td>15.29746086125732</td><td>156.0</td><td>204.77822112557135</td><td>28.705181136624176</td></tr>\n",
       "<tr><td>3</td><td>1711.8003135994995</td><td>18.539506752339</td><td>310.0</td><td>655.9677521191092</td><td>25.794720926548095</td></tr>\n",
       "<tr><td>4</td><td>923.0684847246181</td><td>14.625760800853879</td><td>36.0</td><td>37.37500492998914</td><td>32.95749459095774</td></tr>\n",
       "<tr><td>5</td><td>2234.2549134375445</td><td>14.501379536742217</td><td>68.0</td><td>71.6785788821078</td><td>31.32952014348328</td></tr>\n",
       "<tr><td>6</td><td>2474.46306667768</td><td>15.689387745813319</td><td>21.0</td><td>20.87708304101735</td><td>34.413369869613426</td></tr>\n",
       "<tr><td>7</td><td>3534.0094320508633</td><td>15.973813717402807</td><td>25.0</td><td>25.480739334600404</td><td>33.9151928836135</td></tr>\n",
       "<tr><td>8</td><td>3621.5443007687913</td><td>28.370205983440428</td><td>46.0</td><td>46.728068564760896</td><td>32.399137439866664</td></tr>\n",
       "<tr><td>9</td><td>3884.9045267197275</td><td>33.58182767339601</td><td>79.0</td><td>89.49072208473657</td><td>30.774662609875875</td></tr>\n",
       "<tr><td>...</td><td>...</td><td>...</td><td>...</td><td>...</td><td>...</td></tr>\n",
       "<tr><td>1018</td><td>1749.1706260558062</td><td>4007.1408628807017</td><td>442.0</td><td>1324.0795200785465</td><td>24.038818012060794</td></tr>\n",
       "<tr><td>1019</td><td>2169.965088951922</td><td>4003.0491100244385</td><td>80.0</td><td>88.04398631038363</td><td>30.81540866491558</td></tr>\n",
       "<tr><td>1020</td><td>2548.410709968323</td><td>4009.299032985981</td><td>354.0</td><td>920.102888738423</td><td>24.94878625156201</td></tr>\n",
       "<tr><td>1021</td><td>761.2054172179704</td><td>4007.3473575827657</td><td>39.0</td><td>40.81604966146737</td><td>32.737311554714</td></tr>\n",
       "<tr><td>1022</td><td>2844.954143761977</td><td>4022.1688322123623</td><td>153.0</td><td>196.9091940519965</td><td>28.803143303569502</td></tr>\n",
       "<tr><td>1023</td><td>1245.2242498954074</td><td>4029.0166771344534</td><td>177.0</td><td>239.53286675518544</td><td>28.313273404634288</td></tr>\n",
       "<tr><td>1024</td><td>3030.7501314284104</td><td>4064.4677715259018</td><td>23.0</td><td>22.372444034575615</td><td>34.24042493863942</td></tr>\n",
       "<tr><td>1025</td><td>3362.0007692052477</td><td>4079.4668707065543</td><td>176.0</td><td>262.12736948120323</td><td>28.087923678275317</td></tr>\n",
       "<tr><td>1026</td><td>3512.279757708813</td><td>4087.131022310989</td><td>154.0</td><td>227.3207847658087</td><td>28.44409457831387</td></tr>\n",
       "<tr><td>1027</td><td>1608.4171031380208</td><td>4090.775435865226</td><td>104.0</td><td>127.1024381715556</td><td>29.8975165972304</td></tr>\n",
       "</table></div>"
      ],
      "text/plain": [
       "<QTable length=1027>\n",
       "label     xcentroid      ...    segment_flux        magnitude     \n",
       "                         ...                                      \n",
       "int32      float64       ...      float64            float64      \n",
       "----- ------------------ ... ------------------ ------------------\n",
       "    1  3421.055959411376 ... 502.12943941423447 26.462855165266234\n",
       "    2  2084.927114466944 ... 204.77822112557135 28.705181136624176\n",
       "    3 1711.8003135994995 ...  655.9677521191092 25.794720926548095\n",
       "    4  923.0684847246181 ...  37.37500492998914  32.95749459095774\n",
       "    5 2234.2549134375445 ...   71.6785788821078  31.32952014348328\n",
       "    6   2474.46306667768 ...  20.87708304101735 34.413369869613426\n",
       "    7 3534.0094320508633 ... 25.480739334600404   33.9151928836135\n",
       "    8 3621.5443007687913 ... 46.728068564760896 32.399137439866664\n",
       "    9 3884.9045267197275 ...  89.49072208473657 30.774662609875875\n",
       "  ...                ... ...                ...                ...\n",
       " 1018 1749.1706260558062 ... 1324.0795200785465 24.038818012060794\n",
       " 1019  2169.965088951922 ...  88.04398631038363  30.81540866491558\n",
       " 1020  2548.410709968323 ...   920.102888738423  24.94878625156201\n",
       " 1021  761.2054172179704 ...  40.81604966146737    32.737311554714\n",
       " 1022  2844.954143761977 ...  196.9091940519965 28.803143303569502\n",
       " 1023 1245.2242498954074 ... 239.53286675518544 28.313273404634288\n",
       " 1024 3030.7501314284104 ... 22.372444034575615  34.24042493863942\n",
       " 1025 3362.0007692052477 ... 262.12736948120323 28.087923678275317\n",
       " 1026  3512.279757708813 ...  227.3207847658087  28.44409457831387\n",
       " 1027 1608.4171031380208 ...  127.1024381715556   29.8975165972304"
      ]
     },
     "execution_count": 28,
     "metadata": {},
     "output_type": "execute_result"
    }
   ],
   "source": [
    "tablaV = tablaV['label', 'xcentroid', 'ycentroid', 'area', 'segment_flux']\n",
    "#Dividimos el \"flujo\" por el tiempo de exposición \n",
    "tablaV['segment_flux'] = tablaV['segment_flux']/header_ngcv['EXPTIME']\n",
    "#Calculamos las magnitudes aparentes usando el zeropoint\n",
    "zeropointV = 42.01\n",
    "tablaV['magnitude'] = zeropointV - 2.5*np.log(tablaV['segment_flux'])\n",
    "tablaV"
   ]
  },
  {
   "cell_type": "code",
   "execution_count": 29,
   "id": "05b6334f",
   "metadata": {
    "scrolled": false
   },
   "outputs": [
    {
     "data": {
      "text/html": [
       "&lt;Column name=&apos;magnitude&apos; dtype=&apos;float64&apos; length=1027&gt;\n",
       "<table>\n",
       "<tr><td>4.931370588296403</td></tr>\n",
       "<tr><td>13.475382760618558</td></tr>\n",
       "<tr><td>13.900139996912582</td></tr>\n",
       "<tr><td>14.837904551055779</td></tr>\n",
       "<tr><td>15.266906362756412</td></tr>\n",
       "<tr><td>15.623697478207138</td></tr>\n",
       "<tr><td>15.967024379697406</td></tr>\n",
       "<tr><td>16.290300298110765</td></tr>\n",
       "<tr><td>17.1528371097739</td></tr>\n",
       "<tr><td>17.25459617044965</td></tr>\n",
       "<tr><td>17.31831614061241</td></tr>\n",
       "<tr><td>17.3705357435301</td></tr>\n",
       "<tr><td>...</td></tr>\n",
       "<tr><td>35.390578449013915</td></tr>\n",
       "<tr><td>35.394688351919584</td></tr>\n",
       "<tr><td>35.39545723077526</td></tr>\n",
       "<tr><td>35.39599766738467</td></tr>\n",
       "<tr><td>35.39749515613098</td></tr>\n",
       "<tr><td>35.398174490222445</td></tr>\n",
       "<tr><td>35.3992010319833</td></tr>\n",
       "<tr><td>35.41169588308227</td></tr>\n",
       "<tr><td>35.417298836781285</td></tr>\n",
       "<tr><td>35.41941199710227</td></tr>\n",
       "<tr><td>35.424461944808584</td></tr>\n",
       "<tr><td>35.462376911120344</td></tr>\n",
       "</table>"
      ],
      "text/plain": [
       "<Column name='magnitude' dtype='float64' length=1027>\n",
       " 4.931370588296403\n",
       "13.475382760618558\n",
       "13.900139996912582\n",
       "14.837904551055779\n",
       "15.266906362756412\n",
       "15.623697478207138\n",
       "15.967024379697406\n",
       "16.290300298110765\n",
       "  17.1528371097739\n",
       " 17.25459617044965\n",
       " 17.31831614061241\n",
       "  17.3705357435301\n",
       "               ...\n",
       "35.390578449013915\n",
       "35.394688351919584\n",
       " 35.39545723077526\n",
       " 35.39599766738467\n",
       " 35.39749515613098\n",
       "35.398174490222445\n",
       "  35.3992010319833\n",
       " 35.41169588308227\n",
       "35.417298836781285\n",
       " 35.41941199710227\n",
       "35.424461944808584\n",
       "35.462376911120344"
      ]
     },
     "execution_count": 29,
     "metadata": {},
     "output_type": "execute_result"
    }
   ],
   "source": [
    "#Mostramos las magnitudes\n",
    "np.sort(tablaV['magnitude'])"
   ]
  },
  {
   "cell_type": "markdown",
   "id": "4312e96f",
   "metadata": {},
   "source": [
    "**Siendo consistente con los catalogos, procederemos a identificar las fuentes para obtener las mismas para ambos filtros y asi luego producir el indice de color**"
   ]
  },
  {
   "cell_type": "code",
   "execution_count": 165,
   "id": "8877dcc0",
   "metadata": {
    "scrolled": true
   },
   "outputs": [
    {
     "name": "stdout",
     "output_type": "stream",
     "text": [
      "label_ngcb label_ngcv   magnitud_ngcb      magnitud_ngcv   \n",
      "---------- ---------- ------------------ ------------------\n",
      "         3          1 17.208668308669786 26.452855165266236\n",
      "         9          2 22.812370325329447  28.69518113662418\n",
      "        12          3 21.218957572906294 25.784720926548097\n",
      "         7          4 22.372391496334764  32.94749459095773\n",
      "         8          5  21.65175866904889  31.31952014348328\n",
      "        14          6 26.266985525015894  34.40336986961343\n",
      "        23         10 24.242605135396026 31.457285252484212\n",
      "        25         11 20.983240025853462 24.727588978247383\n",
      "        21         12 12.085151874441614 18.653210949230818\n",
      "        31         15 25.018905559680363 33.019321027088566\n",
      "       ...        ...                ...                ...\n",
      "      1568       1013  19.95265821693893 26.479950754011735\n",
      "      1570       1014 25.299411658180524 27.642123575369062\n",
      "      1572       1015  22.93934540240148 29.308350183302892\n",
      "      1574       1016 21.227389360086626  32.92712578766806\n",
      "      1578       1017  20.74455503597876 27.092758592153483\n",
      "      1580       1018 19.591255332723392 24.028818012060796\n",
      "      1579       1020  16.02742706067227  24.93878625156201\n",
      "      1581       1021  23.00372993233055    32.727311554714\n",
      "      1585       1022  28.09019025575195 28.793143303569504\n",
      "      1586       1023 21.710517873927884  28.30327340463429\n",
      "      1596       1027 23.312987833947606   29.8875165972304\n",
      "Length = 540 rows\n"
     ]
    }
   ],
   "source": [
    "# Extrae las coordenadas x e y de ambas tablas\n",
    "coord_ngcb = np.array(list(zip(tabla_ngcb['xcentroid'], tabla_ngcb['ycentroid'])))\n",
    "coord_filtro_v = np.array(list(zip(tabla_ngcv['xcentroid'], tabla_ngcv['ycentroid'])))\n",
    "\n",
    "# Construye un árbol KD para cada conjunto de coordenadas\n",
    "tree_ngcb = cKDTree(coord_ngcb)\n",
    "tree_filtro_v = cKDTree(coord_filtro_v)\n",
    "\n",
    "# Establece un radio de coincidencia \n",
    "radio_coincidencia = 5\n",
    "\n",
    "# Busca las coincidencias entre las dos tablas\n",
    "coincidencias_ngcb = tree_filtro_v.query_ball_tree(tree_ngcb, radio_coincidencia)\n",
    "\n",
    "#  nos ayudara a rastrear asignaciones únicas, asi las fuentes no se repiten \n",
    "asignaciones_ngcb = set()\n",
    "asignaciones_filtro_v = set()\n",
    "\n",
    "# Crea una nueva tabla con las fuentes coincidentes y sus magnitudes\n",
    "tabla_indice_color = Table(names=['label_ngcb', 'label_ngcv', 'magnitud_ngcb', 'magnitud_ngcv'],\n",
    "                    dtype=[int, int, float, float])\n",
    "\n",
    "for i, coincidencias in enumerate(coincidencias_ngcb):\n",
    "    if len(coincidencias) == 1:  # Solo hay una coincidencia, asignación única\n",
    "        j = coincidencias[0]\n",
    "        if j not in asignaciones_filtro_v:\n",
    "            tabla_indice_color.add_row([tabla_ngcb['label'][j], tabla_ngcv['label'][i],\n",
    "                                 tabla_ngcb['magnitude'][j], tabla_ngcv['magnitude'][i]])\n",
    "            asignaciones_ngcb.add(j)\n",
    "            asignaciones_filtro_v.add(i)\n",
    "\n",
    "            \n",
    "print(tabla_indice_color)"
   ]
  },
  {
   "cell_type": "code",
   "execution_count": 166,
   "id": "50b9e1bb",
   "metadata": {},
   "outputs": [
    {
     "data": {
      "text/plain": [
       "(2.694178634220304, 4.931370588296403)"
      ]
     },
     "execution_count": 166,
     "metadata": {},
     "output_type": "execute_result"
    }
   ],
   "source": [
    "ngc_magnitud_B = tablaB['magnitude'].min()\n",
    "ngc_magnitud_V = tablaV['magnitude'].min()\n",
    "\n",
    "ngc_magnitud_B, ngc_magnitud_V"
   ]
  },
  {
   "cell_type": "code",
   "execution_count": 167,
   "id": "0a76f8e1",
   "metadata": {},
   "outputs": [
    {
     "data": {
      "text/plain": [
       "(723, 270)"
      ]
     },
     "execution_count": 167,
     "metadata": {},
     "output_type": "execute_result"
    }
   ],
   "source": [
    "# Nuestra estrella a estudiar, que es la fuente con mayor area, la agregaremos a la tabla\n",
    "ngc2070b = np.argmax(tabla_ngcb['area']) \n",
    "label_ngc2070b = tabla_ngcb['label'][ngc2070b]\n",
    "ngc2070v = np.argmax(tabla_ngcv['area']) \n",
    "label_ngc2070v = tabla_ngcv['label'][ngc2070v]\n",
    "\n",
    "label_ngc2070b, label_ngc2070v"
   ]
  },
  {
   "cell_type": "code",
   "execution_count": 168,
   "id": "38f40554",
   "metadata": {
    "scrolled": false
   },
   "outputs": [
    {
     "name": "stdout",
     "output_type": "stream",
     "text": [
      "label_ngcb label_ngcv   magnitud_ngcb      magnitud_ngcv   \n",
      "---------- ---------- ------------------ ------------------\n",
      "         3          1 17.208668308669786 26.452855165266236\n",
      "         9          2 22.812370325329447  28.69518113662418\n",
      "        12          3 21.218957572906294 25.784720926548097\n",
      "         7          4 22.372391496334764  32.94749459095773\n",
      "         8          5  21.65175866904889  31.31952014348328\n",
      "        14          6 26.266985525015894  34.40336986961343\n",
      "        23         10 24.242605135396026 31.457285252484212\n",
      "        25         11 20.983240025853462 24.727588978247383\n",
      "        21         12 12.085151874441614 18.653210949230818\n",
      "        31         15 25.018905559680363 33.019321027088566\n",
      "       ...        ...                ...                ...\n",
      "      1570       1014 25.299411658180524 27.642123575369062\n",
      "      1572       1015  22.93934540240148 29.308350183302892\n",
      "      1574       1016 21.227389360086626  32.92712578766806\n",
      "      1578       1017  20.74455503597876 27.092758592153483\n",
      "      1580       1018 19.591255332723392 24.028818012060796\n",
      "      1579       1020  16.02742706067227  24.93878625156201\n",
      "      1581       1021  23.00372993233055    32.727311554714\n",
      "      1585       1022  28.09019025575195 28.793143303569504\n",
      "      1586       1023 21.710517873927884  28.30327340463429\n",
      "      1596       1027 23.312987833947606   29.8875165972304\n",
      "       723        270  2.694178634220304  4.931370588296403\n",
      "Length = 541 rows\n",
      "se verifica que se ha añadido, de 540 a 541\n"
     ]
    },
    {
     "data": {
      "text/plain": [
       "(None, None)"
      ]
     },
     "execution_count": 168,
     "metadata": {},
     "output_type": "execute_result"
    }
   ],
   "source": [
    "# Agregamos nuestra nebulosa a la tabla para calcularle el indice de color \n",
    "tabla_indice_color.add_row([723, 270, 2.694178634220304, 4.931370588296403])  \n",
    "print(tabla_indice_color), print(\"se verifica que se ha añadido, de 540 a 541\")"
   ]
  },
  {
   "cell_type": "code",
   "execution_count": 169,
   "id": "9a36207f",
   "metadata": {
    "scrolled": false
   },
   "outputs": [
    {
     "data": {
      "text/html": [
       "<div><i>Table length=541</i>\n",
       "<table id=\"table3128298949648\" class=\"table-striped table-bordered table-condensed\">\n",
       "<thead><tr><th>label_ngcb</th><th>label_ngcv</th><th>magnitud_ngcb</th><th>magnitud_ngcv</th><th>indice_color</th></tr></thead>\n",
       "<thead><tr><th>int32</th><th>int32</th><th>float64</th><th>float64</th><th>float64</th></tr></thead>\n",
       "<tr><td>3</td><td>1</td><td>17.208668308669786</td><td>26.452855165266236</td><td>-9.24418685659645</td></tr>\n",
       "<tr><td>9</td><td>2</td><td>22.812370325329447</td><td>28.69518113662418</td><td>-5.882810811294732</td></tr>\n",
       "<tr><td>12</td><td>3</td><td>21.218957572906294</td><td>25.784720926548097</td><td>-4.5657633536418025</td></tr>\n",
       "<tr><td>7</td><td>4</td><td>22.372391496334764</td><td>32.94749459095773</td><td>-10.575103094622968</td></tr>\n",
       "<tr><td>8</td><td>5</td><td>21.65175866904889</td><td>31.31952014348328</td><td>-9.667761474434393</td></tr>\n",
       "<tr><td>14</td><td>6</td><td>26.266985525015894</td><td>34.40336986961343</td><td>-8.136384344597534</td></tr>\n",
       "<tr><td>23</td><td>10</td><td>24.242605135396026</td><td>31.457285252484212</td><td>-7.214680117088186</td></tr>\n",
       "<tr><td>25</td><td>11</td><td>20.983240025853462</td><td>24.727588978247383</td><td>-3.7443489523939206</td></tr>\n",
       "<tr><td>21</td><td>12</td><td>12.085151874441614</td><td>18.653210949230818</td><td>-6.568059074789204</td></tr>\n",
       "<tr><td>31</td><td>15</td><td>25.018905559680363</td><td>33.019321027088566</td><td>-8.000415467408203</td></tr>\n",
       "<tr><td>...</td><td>...</td><td>...</td><td>...</td><td>...</td></tr>\n",
       "<tr><td>1572</td><td>1015</td><td>22.93934540240148</td><td>29.308350183302892</td><td>-6.369004780901413</td></tr>\n",
       "<tr><td>1574</td><td>1016</td><td>21.227389360086626</td><td>32.92712578766806</td><td>-11.699736427581435</td></tr>\n",
       "<tr><td>1578</td><td>1017</td><td>20.74455503597876</td><td>27.092758592153483</td><td>-6.348203556174724</td></tr>\n",
       "<tr><td>1580</td><td>1018</td><td>19.591255332723392</td><td>24.028818012060796</td><td>-4.437562679337404</td></tr>\n",
       "<tr><td>1579</td><td>1020</td><td>16.02742706067227</td><td>24.93878625156201</td><td>-8.91135919088974</td></tr>\n",
       "<tr><td>1581</td><td>1021</td><td>23.00372993233055</td><td>32.727311554714</td><td>-9.723581622383449</td></tr>\n",
       "<tr><td>1585</td><td>1022</td><td>28.09019025575195</td><td>28.793143303569504</td><td>-0.7029530478175552</td></tr>\n",
       "<tr><td>1586</td><td>1023</td><td>21.710517873927884</td><td>28.30327340463429</td><td>-6.592755530706405</td></tr>\n",
       "<tr><td>1596</td><td>1027</td><td>23.312987833947606</td><td>29.8875165972304</td><td>-6.574528763282796</td></tr>\n",
       "<tr><td>723</td><td>270</td><td>2.694178634220304</td><td>4.931370588296403</td><td>-2.237191954076099</td></tr>\n",
       "</table></div>"
      ],
      "text/plain": [
       "<Table length=541>\n",
       "label_ngcb label_ngcv   magnitud_ngcb      magnitud_ngcv        indice_color   \n",
       "  int32      int32         float64            float64             float64      \n",
       "---------- ---------- ------------------ ------------------ -------------------\n",
       "         3          1 17.208668308669786 26.452855165266236   -9.24418685659645\n",
       "         9          2 22.812370325329447  28.69518113662418  -5.882810811294732\n",
       "        12          3 21.218957572906294 25.784720926548097 -4.5657633536418025\n",
       "         7          4 22.372391496334764  32.94749459095773 -10.575103094622968\n",
       "         8          5  21.65175866904889  31.31952014348328  -9.667761474434393\n",
       "        14          6 26.266985525015894  34.40336986961343  -8.136384344597534\n",
       "        23         10 24.242605135396026 31.457285252484212  -7.214680117088186\n",
       "        25         11 20.983240025853462 24.727588978247383 -3.7443489523939206\n",
       "        21         12 12.085151874441614 18.653210949230818  -6.568059074789204\n",
       "        31         15 25.018905559680363 33.019321027088566  -8.000415467408203\n",
       "       ...        ...                ...                ...                 ...\n",
       "      1572       1015  22.93934540240148 29.308350183302892  -6.369004780901413\n",
       "      1574       1016 21.227389360086626  32.92712578766806 -11.699736427581435\n",
       "      1578       1017  20.74455503597876 27.092758592153483  -6.348203556174724\n",
       "      1580       1018 19.591255332723392 24.028818012060796  -4.437562679337404\n",
       "      1579       1020  16.02742706067227  24.93878625156201   -8.91135919088974\n",
       "      1581       1021  23.00372993233055    32.727311554714  -9.723581622383449\n",
       "      1585       1022  28.09019025575195 28.793143303569504 -0.7029530478175552\n",
       "      1586       1023 21.710517873927884  28.30327340463429  -6.592755530706405\n",
       "      1596       1027 23.312987833947606   29.8875165972304  -6.574528763282796\n",
       "       723        270  2.694178634220304  4.931370588296403  -2.237191954076099"
      ]
     },
     "execution_count": 169,
     "metadata": {},
     "output_type": "execute_result"
    }
   ],
   "source": [
    "tabla_indice_color['indice_color'] = tabla_indice_color['magnitud_ngcb'] - tabla_indice_color['magnitud_ngcv']\n",
    "tabla_indice_color[label]\n",
    "tabla_indice_color"
   ]
  },
  {
   "cell_type": "code",
   "execution_count": 159,
   "id": "2ddeeb7b",
   "metadata": {
    "scrolled": false
   },
   "outputs": [
    {
     "data": {
      "text/html": [
       "<div><i>Table length=541</i>\n",
       "<table id=\"table3128300699216\" class=\"table-striped table-bordered table-condensed\">\n",
       "<thead><tr><th>magnitud B</th><th>indice_color</th></tr></thead>\n",
       "<thead><tr><th>float64</th><th>float64</th></tr></thead>\n",
       "<tr><td>17.208668308669786</td><td>-9.24418685659645</td></tr>\n",
       "<tr><td>22.812370325329447</td><td>-5.882810811294732</td></tr>\n",
       "<tr><td>21.218957572906294</td><td>-4.5657633536418025</td></tr>\n",
       "<tr><td>22.372391496334764</td><td>-10.575103094622968</td></tr>\n",
       "<tr><td>21.65175866904889</td><td>-9.667761474434393</td></tr>\n",
       "<tr><td>26.266985525015894</td><td>-8.136384344597534</td></tr>\n",
       "<tr><td>24.242605135396026</td><td>-7.214680117088186</td></tr>\n",
       "<tr><td>20.983240025853462</td><td>-3.7443489523939206</td></tr>\n",
       "<tr><td>12.085151874441614</td><td>-6.568059074789204</td></tr>\n",
       "<tr><td>25.018905559680363</td><td>-8.000415467408203</td></tr>\n",
       "<tr><td>...</td><td>...</td></tr>\n",
       "<tr><td>22.93934540240148</td><td>-6.369004780901413</td></tr>\n",
       "<tr><td>21.227389360086626</td><td>-11.699736427581435</td></tr>\n",
       "<tr><td>20.74455503597876</td><td>-6.348203556174724</td></tr>\n",
       "<tr><td>19.591255332723392</td><td>-4.437562679337404</td></tr>\n",
       "<tr><td>16.02742706067227</td><td>-8.91135919088974</td></tr>\n",
       "<tr><td>23.00372993233055</td><td>-9.723581622383449</td></tr>\n",
       "<tr><td>28.09019025575195</td><td>-0.7029530478175552</td></tr>\n",
       "<tr><td>21.710517873927884</td><td>-6.592755530706405</td></tr>\n",
       "<tr><td>23.312987833947606</td><td>-6.574528763282796</td></tr>\n",
       "<tr><td>2.694178634220304</td><td>-2.237191954076099</td></tr>\n",
       "</table></div>"
      ],
      "text/plain": [
       "<Table length=541>\n",
       "    magnitud B         indice_color   \n",
       "     float64             float64      \n",
       "------------------ -------------------\n",
       "17.208668308669786   -9.24418685659645\n",
       "22.812370325329447  -5.882810811294732\n",
       "21.218957572906294 -4.5657633536418025\n",
       "22.372391496334764 -10.575103094622968\n",
       " 21.65175866904889  -9.667761474434393\n",
       "26.266985525015894  -8.136384344597534\n",
       "24.242605135396026  -7.214680117088186\n",
       "20.983240025853462 -3.7443489523939206\n",
       "12.085151874441614  -6.568059074789204\n",
       "25.018905559680363  -8.000415467408203\n",
       "               ...                 ...\n",
       " 22.93934540240148  -6.369004780901413\n",
       "21.227389360086626 -11.699736427581435\n",
       " 20.74455503597876  -6.348203556174724\n",
       "19.591255332723392  -4.437562679337404\n",
       " 16.02742706067227   -8.91135919088974\n",
       " 23.00372993233055  -9.723581622383449\n",
       " 28.09019025575195 -0.7029530478175552\n",
       "21.710517873927884  -6.592755530706405\n",
       "23.312987833947606  -6.574528763282796\n",
       " 2.694178634220304  -2.237191954076099"
      ]
     },
     "execution_count": 159,
     "metadata": {},
     "output_type": "execute_result"
    }
   ],
   "source": [
    "indice_color = Table()\n",
    "indice_color['magnitud B'] = tabla_indice_color['magnitud_ngcb']\n",
    "indice_color['indice_color'] = tabla_indice_color['indice_color']\n",
    "indice_color"
   ]
  },
  {
   "cell_type": "code",
   "execution_count": 160,
   "id": "2c4d479f",
   "metadata": {
    "scrolled": false
   },
   "outputs": [
    {
     "data": {
      "image/png": "[encoded data removed]",
      "text/plain": [
       "<Figure size 640x480 with 1 Axes>"
      ]
     },
     "metadata": {},
     "output_type": "display_data"
    }
   ],
   "source": [
    "label = indice_color['magnitud B']\n",
    "indice_color = indice_color['indice_color']\n",
    "\n",
    "\n",
    "colors = np.sqrt(label**2 + indice_color**2)\n",
    "\n",
    "plt.scatter(indice_color, label , marker='o', linestyle='-', c =colors , cmap='viridis')\n",
    "plt.ylim(30, 0)\n",
    "# Etiquetas y título\n",
    "plt.xlabel('Índice color (B-V)')\n",
    "plt.ylabel('Magnitud B')\n",
    "plt.title('Magnitud vs Índice color (B-V)')\n",
    "plt.savefig('C:\\Yop\\imagenes_astro\\Indice_color')\n",
    "\n",
    "# Mostrar el gráfico\n",
    "plt.show()"
   ]
  },
  {
   "cell_type": "code",
   "execution_count": null,
   "id": "888a59c1",
   "metadata": {},
   "outputs": [],
   "source": [
    "tabla_finalB = Table()\n",
    "\n"
   ]
  }
 ],
 "metadata": {
  "kernelspec": {
   "display_name": "Python 3 (ipykernel)",
   "language": "python",
   "name": "python3"
  },
  "language_info": {
   "codemirror_mode": {
    "name": "ipython",
    "version": 3
   },
   "file_extension": ".py",
   "mimetype": "text/x-python",
   "name": "python",
   "nbconvert_exporter": "python",
   "pygments_lexer": "ipython3",
   "version": "3.11.5"
  }
 },
 "nbformat": 4,
 "nbformat_minor": 5
}
